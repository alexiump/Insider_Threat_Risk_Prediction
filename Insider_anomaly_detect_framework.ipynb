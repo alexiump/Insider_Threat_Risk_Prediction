{
 "cells": [
  {
   "cell_type": "markdown",
   "metadata": {},
   "source": [
    "## Behavioral Analytics: Insider Threat Detection\n",
    "\n",
    "### Anomaly Detection Model: IsolationForest Algorithm\n",
    "\n"
   ]
  },
  {
   "cell_type": "code",
   "execution_count": 1,
   "metadata": {
    "collapsed": true
   },
   "outputs": [],
   "source": [
    "import pandas as pd\n",
    "import numpy as np\n",
    "import matplotlib.pyplot as plt\n",
    "from sklearn.ensemble import IsolationForest"
   ]
  },
  {
   "cell_type": "markdown",
   "metadata": {},
   "source": [
    "#### Graph data: User-PC interrelationship\n",
    "\n",
    "- Model with input parameters from graph analysis (node degree which is PC count for each user)"
   ]
  },
  {
   "cell_type": "code",
   "execution_count": 3,
   "metadata": {
    "collapsed": false
   },
   "outputs": [],
   "source": [
    "user_pc = pd.read_csv('./Data_Subset/Input_features/user_pc_gdegree.csv')"
   ]
  },
  {
   "cell_type": "code",
   "execution_count": 4,
   "metadata": {
    "collapsed": false
   },
   "outputs": [
    {
     "data": {
      "text/html": [
       "<div>\n",
       "<style>\n",
       "    .dataframe thead tr:only-child th {\n",
       "        text-align: right;\n",
       "    }\n",
       "\n",
       "    .dataframe thead th {\n",
       "        text-align: left;\n",
       "    }\n",
       "\n",
       "    .dataframe tbody tr th {\n",
       "        vertical-align: top;\n",
       "    }\n",
       "</style>\n",
       "<table border=\"1\" class=\"dataframe\">\n",
       "  <thead>\n",
       "    <tr style=\"text-align: right;\">\n",
       "      <th></th>\n",
       "      <th>user</th>\n",
       "      <th>pc_count</th>\n",
       "    </tr>\n",
       "  </thead>\n",
       "  <tbody>\n",
       "    <tr>\n",
       "      <th>0</th>\n",
       "      <td>XTM0246</td>\n",
       "      <td>1</td>\n",
       "    </tr>\n",
       "    <tr>\n",
       "      <th>1</th>\n",
       "      <td>MHH0652</td>\n",
       "      <td>1</td>\n",
       "    </tr>\n",
       "    <tr>\n",
       "      <th>2</th>\n",
       "      <td>WXW0044</td>\n",
       "      <td>2</td>\n",
       "    </tr>\n",
       "    <tr>\n",
       "      <th>3</th>\n",
       "      <td>CAE0080</td>\n",
       "      <td>3</td>\n",
       "    </tr>\n",
       "    <tr>\n",
       "      <th>4</th>\n",
       "      <td>REM0274</td>\n",
       "      <td>1</td>\n",
       "    </tr>\n",
       "  </tbody>\n",
       "</table>\n",
       "</div>"
      ],
      "text/plain": [
       "      user  pc_count\n",
       "0  XTM0246         1\n",
       "1  MHH0652         1\n",
       "2  WXW0044         2\n",
       "3  CAE0080         3\n",
       "4  REM0274         1"
      ]
     },
     "execution_count": 4,
     "metadata": {},
     "output_type": "execute_result"
    }
   ],
   "source": [
    "user_pc.head()"
   ]
  },
  {
   "cell_type": "code",
   "execution_count": 5,
   "metadata": {
    "collapsed": true
   },
   "outputs": [],
   "source": [
    "user_pc_ct = np.array(user_pc['pc_count'])"
   ]
  },
  {
   "cell_type": "code",
   "execution_count": 6,
   "metadata": {
    "collapsed": false
   },
   "outputs": [
    {
     "data": {
      "text/plain": [
       "array([ 1,  1,  2,  3,  1,  1, 34,  2,  3,  1,  1,  1,  2,  1,  3,  2,  3,\n",
       "        2,  1,  1,  1,  3,  1,  1,  1,  1,  2,  1, 27, 33, 20,  6,  1,  1,\n",
       "        2,  1,  1,  1,  1,  1,  1,  1,  1,  1,  1,  1,  1,  1,  2,  1,  1,\n",
       "        2,  2,  1,  3,  2,  3,  1,  1,  5,  1,  1,  1,  1,  1,  1, 12,  1,\n",
       "        1,  1,  1,  1,  1,  2,  1,  1,  1,  1,  1,  3,  1,  1,  1,  1,  1,\n",
       "        1, 43,  1,  1,  1,  1,  1,  1,  1,  1, 35,  1,  1,  2,  1,  3,  1,\n",
       "        2,  1,  1,  1,  1,  1,  1,  1,  1,  1,  1,  3,  1,  3,  1,  1,  3,\n",
       "        2,  1,  2,  3,  1,  1,  1,  1,  1,  1,  1,  3,  1,  1,  1,  2,  1,\n",
       "        1,  3,  1,  1,  1,  3, 55,  1,  1,  1,  1,  1,  1,  1,  1,  1,  1,\n",
       "        1,  1, 30,  1,  1,  3,  1,  1,  1,  1,  3,  1,  1,  5,  1,  2,  1,\n",
       "        3,  1,  1,  1,  1,  1,  1,  1,  1,  1,  2, 40,  3,  1,  1,  1,  1,\n",
       "        1,  1,  1,  1,  1,  1,  1,  2,  3,  1,  1,  1,  1,  2,  1,  1,  1,\n",
       "        1,  1,  1,  1,  1,  1,  2,  2,  1,  3,  1,  2,  2,  1,  1,  1,  3,\n",
       "        1,  1,  1,  1,  1,  2,  3,  1,  3,  1,  1])"
      ]
     },
     "execution_count": 6,
     "metadata": {},
     "output_type": "execute_result"
    }
   ],
   "source": [
    "user_pc_ct"
   ]
  },
  {
   "cell_type": "code",
   "execution_count": 7,
   "metadata": {
    "collapsed": false
   },
   "outputs": [
    {
     "data": {
      "text/plain": [
       "IsolationForest(bootstrap=False, contamination=0.1, max_features=1.0,\n",
       "        max_samples='auto', n_estimators=100, n_jobs=1, random_state=None,\n",
       "        verbose=0)"
      ]
     },
     "execution_count": 7,
     "metadata": {},
     "output_type": "execute_result"
    }
   ],
   "source": [
    "user_pc_ct = user_pc_ct.reshape(-1,1) # need to reshape(-1,1) for single feature, (1,-1) \n",
    "                                    #for single sample or multiple features\n",
    "forest = IsolationForest()\n",
    "\n",
    "forest.fit(user_pc_ct)"
   ]
  },
  {
   "cell_type": "code",
   "execution_count": 9,
   "metadata": {
    "collapsed": false,
    "scrolled": true
   },
   "outputs": [
    {
     "data": {
      "text/plain": [
       "array([ 0.10330184,  0.10330184,  0.01363095,  0.01311561,  0.10330184,\n",
       "        0.10330184, -0.10326297,  0.01363095,  0.01311561,  0.10330184,\n",
       "        0.10330184,  0.10330184,  0.01363095,  0.10330184,  0.01311561,\n",
       "        0.01363095,  0.01311561,  0.01363095,  0.10330184,  0.10330184,\n",
       "        0.10330184,  0.01311561,  0.10330184,  0.10330184,  0.10330184,\n",
       "        0.10330184,  0.01363095,  0.10330184, -0.155851  , -0.1116786 ,\n",
       "       -0.20361915, -0.17791213,  0.10330184,  0.10330184,  0.01363095,\n",
       "        0.10330184,  0.10330184,  0.10330184,  0.10330184,  0.10330184,\n",
       "        0.10330184,  0.10330184,  0.10330184,  0.10330184,  0.10330184,\n",
       "        0.10330184,  0.10330184,  0.10330184,  0.01363095,  0.10330184,\n",
       "        0.10330184,  0.01363095,  0.01363095,  0.10330184,  0.01311561,\n",
       "        0.01363095,  0.01311561,  0.10330184,  0.10330184, -0.14461441,\n",
       "        0.10330184,  0.10330184,  0.10330184,  0.10330184,  0.10330184,\n",
       "        0.10330184, -0.2227895 ,  0.10330184,  0.10330184,  0.10330184,\n",
       "        0.10330184,  0.10330184,  0.10330184,  0.01363095,  0.10330184,\n",
       "        0.10330184,  0.10330184,  0.10330184,  0.10330184,  0.01311561,\n",
       "        0.10330184,  0.10330184,  0.10330184,  0.10330184,  0.10330184,\n",
       "        0.10330184, -0.20458976,  0.10330184,  0.10330184,  0.10330184,\n",
       "        0.10330184,  0.10330184,  0.10330184,  0.10330184,  0.10330184,\n",
       "       -0.13117512,  0.10330184,  0.10330184,  0.01363095,  0.10330184,\n",
       "        0.01311561,  0.10330184,  0.01363095,  0.10330184,  0.10330184,\n",
       "        0.10330184,  0.10330184,  0.10330184,  0.10330184,  0.10330184,\n",
       "        0.10330184,  0.10330184,  0.10330184,  0.01311561,  0.10330184,\n",
       "        0.01311561,  0.10330184,  0.10330184,  0.01311561,  0.01363095,\n",
       "        0.10330184,  0.01363095,  0.01311561,  0.10330184,  0.10330184,\n",
       "        0.10330184,  0.10330184,  0.10330184,  0.10330184,  0.10330184,\n",
       "        0.01311561,  0.10330184,  0.10330184,  0.10330184,  0.01363095,\n",
       "        0.10330184,  0.10330184,  0.01311561,  0.10330184,  0.10330184,\n",
       "        0.10330184,  0.01311561, -0.28836696,  0.10330184,  0.10330184,\n",
       "        0.10330184,  0.10330184,  0.10330184,  0.10330184,  0.10330184,\n",
       "        0.10330184,  0.10330184,  0.10330184,  0.10330184,  0.10330184,\n",
       "       -0.13865818,  0.10330184,  0.10330184,  0.01311561,  0.10330184,\n",
       "        0.10330184,  0.10330184,  0.10330184,  0.01311561,  0.10330184,\n",
       "        0.10330184, -0.14461441,  0.10330184,  0.01363095,  0.10330184,\n",
       "        0.01311561,  0.10330184,  0.10330184,  0.10330184,  0.10330184,\n",
       "        0.10330184,  0.10330184,  0.10330184,  0.10330184,  0.10330184,\n",
       "        0.01363095, -0.18024383,  0.01311561,  0.10330184,  0.10330184,\n",
       "        0.10330184,  0.10330184,  0.10330184,  0.10330184,  0.10330184,\n",
       "        0.10330184,  0.10330184,  0.10330184,  0.10330184,  0.01363095,\n",
       "        0.01311561,  0.10330184,  0.10330184,  0.10330184,  0.10330184,\n",
       "        0.01363095,  0.10330184,  0.10330184,  0.10330184,  0.10330184,\n",
       "        0.10330184,  0.10330184,  0.10330184,  0.10330184,  0.10330184,\n",
       "        0.01363095,  0.01363095,  0.10330184,  0.01311561,  0.10330184,\n",
       "        0.01363095,  0.01363095,  0.10330184,  0.10330184,  0.10330184,\n",
       "        0.01311561,  0.10330184,  0.10330184,  0.10330184,  0.10330184,\n",
       "        0.10330184,  0.01363095,  0.01311561,  0.10330184,  0.01311561,\n",
       "        0.10330184,  0.10330184])"
      ]
     },
     "execution_count": 9,
     "metadata": {},
     "output_type": "execute_result"
    }
   ],
   "source": [
    "# Getting the anomaly score for each user\n",
    "\n",
    "graph_a_score = forest.decision_function(user_pc_ct)\n",
    "graph_a_score\n"
   ]
  },
  {
   "cell_type": "code",
   "execution_count": 13,
   "metadata": {
    "collapsed": false
   },
   "outputs": [
    {
     "data": {
      "text/plain": [
       "numpy.ndarray"
      ]
     },
     "execution_count": 13,
     "metadata": {},
     "output_type": "execute_result"
    }
   ],
   "source": [
    "type(graph_a_score)"
   ]
  },
  {
   "cell_type": "code",
   "execution_count": 14,
   "metadata": {
    "collapsed": false
   },
   "outputs": [
    {
     "data": {
      "text/plain": [
       "[0.10330183674042703,\n",
       " 0.10330183674042703,\n",
       " 0.013630947752081679,\n",
       " 0.013115610090399854,\n",
       " 0.10330183674042703,\n",
       " 0.10330183674042703,\n",
       " -0.10326296510555455,\n",
       " 0.013630947752081679,\n",
       " 0.013115610090399854,\n",
       " 0.10330183674042703,\n",
       " 0.10330183674042703,\n",
       " 0.10330183674042703,\n",
       " 0.013630947752081679,\n",
       " 0.10330183674042703,\n",
       " 0.013115610090399854,\n",
       " 0.013630947752081679,\n",
       " 0.013115610090399854,\n",
       " 0.013630947752081679,\n",
       " 0.10330183674042703,\n",
       " 0.10330183674042703,\n",
       " 0.10330183674042703,\n",
       " 0.013115610090399854,\n",
       " 0.10330183674042703,\n",
       " 0.10330183674042703,\n",
       " 0.10330183674042703,\n",
       " 0.10330183674042703,\n",
       " 0.013630947752081679,\n",
       " 0.10330183674042703,\n",
       " -0.15585099785783885,\n",
       " -0.11167860358098058,\n",
       " -0.2036191534798859,\n",
       " -0.1779121294552667,\n",
       " 0.10330183674042703,\n",
       " 0.10330183674042703,\n",
       " 0.013630947752081679,\n",
       " 0.10330183674042703,\n",
       " 0.10330183674042703,\n",
       " 0.10330183674042703,\n",
       " 0.10330183674042703,\n",
       " 0.10330183674042703,\n",
       " 0.10330183674042703,\n",
       " 0.10330183674042703,\n",
       " 0.10330183674042703,\n",
       " 0.10330183674042703,\n",
       " 0.10330183674042703,\n",
       " 0.10330183674042703,\n",
       " 0.10330183674042703,\n",
       " 0.10330183674042703,\n",
       " 0.013630947752081679,\n",
       " 0.10330183674042703,\n",
       " 0.10330183674042703,\n",
       " 0.013630947752081679,\n",
       " 0.013630947752081679,\n",
       " 0.10330183674042703,\n",
       " 0.013115610090399854,\n",
       " 0.013630947752081679,\n",
       " 0.013115610090399854,\n",
       " 0.10330183674042703,\n",
       " 0.10330183674042703,\n",
       " -0.1446144142823237,\n",
       " 0.10330183674042703,\n",
       " 0.10330183674042703,\n",
       " 0.10330183674042703,\n",
       " 0.10330183674042703,\n",
       " 0.10330183674042703,\n",
       " 0.10330183674042703,\n",
       " -0.22278949599843234,\n",
       " 0.10330183674042703,\n",
       " 0.10330183674042703,\n",
       " 0.10330183674042703,\n",
       " 0.10330183674042703,\n",
       " 0.10330183674042703,\n",
       " 0.10330183674042703,\n",
       " 0.013630947752081679,\n",
       " 0.10330183674042703,\n",
       " 0.10330183674042703,\n",
       " 0.10330183674042703,\n",
       " 0.10330183674042703,\n",
       " 0.10330183674042703,\n",
       " 0.013115610090399854,\n",
       " 0.10330183674042703,\n",
       " 0.10330183674042703,\n",
       " 0.10330183674042703,\n",
       " 0.10330183674042703,\n",
       " 0.10330183674042703,\n",
       " 0.10330183674042703,\n",
       " -0.2045897628248713,\n",
       " 0.10330183674042703,\n",
       " 0.10330183674042703,\n",
       " 0.10330183674042703,\n",
       " 0.10330183674042703,\n",
       " 0.10330183674042703,\n",
       " 0.10330183674042703,\n",
       " 0.10330183674042703,\n",
       " 0.10330183674042703,\n",
       " -0.13117512011945176,\n",
       " 0.10330183674042703,\n",
       " 0.10330183674042703,\n",
       " 0.013630947752081679,\n",
       " 0.10330183674042703,\n",
       " 0.013115610090399854,\n",
       " 0.10330183674042703,\n",
       " 0.013630947752081679,\n",
       " 0.10330183674042703,\n",
       " 0.10330183674042703,\n",
       " 0.10330183674042703,\n",
       " 0.10330183674042703,\n",
       " 0.10330183674042703,\n",
       " 0.10330183674042703,\n",
       " 0.10330183674042703,\n",
       " 0.10330183674042703,\n",
       " 0.10330183674042703,\n",
       " 0.10330183674042703,\n",
       " 0.013115610090399854,\n",
       " 0.10330183674042703,\n",
       " 0.013115610090399854,\n",
       " 0.10330183674042703,\n",
       " 0.10330183674042703,\n",
       " 0.013115610090399854,\n",
       " 0.013630947752081679,\n",
       " 0.10330183674042703,\n",
       " 0.013630947752081679,\n",
       " 0.013115610090399854,\n",
       " 0.10330183674042703,\n",
       " 0.10330183674042703,\n",
       " 0.10330183674042703,\n",
       " 0.10330183674042703,\n",
       " 0.10330183674042703,\n",
       " 0.10330183674042703,\n",
       " 0.10330183674042703,\n",
       " 0.013115610090399854,\n",
       " 0.10330183674042703,\n",
       " 0.10330183674042703,\n",
       " 0.10330183674042703,\n",
       " 0.013630947752081679,\n",
       " 0.10330183674042703,\n",
       " 0.10330183674042703,\n",
       " 0.013115610090399854,\n",
       " 0.10330183674042703,\n",
       " 0.10330183674042703,\n",
       " 0.10330183674042703,\n",
       " 0.013115610090399854,\n",
       " -0.2883669552614577,\n",
       " 0.10330183674042703,\n",
       " 0.10330183674042703,\n",
       " 0.10330183674042703,\n",
       " 0.10330183674042703,\n",
       " 0.10330183674042703,\n",
       " 0.10330183674042703,\n",
       " 0.10330183674042703,\n",
       " 0.10330183674042703,\n",
       " 0.10330183674042703,\n",
       " 0.10330183674042703,\n",
       " 0.10330183674042703,\n",
       " 0.10330183674042703,\n",
       " -0.13865818494166182,\n",
       " 0.10330183674042703,\n",
       " 0.10330183674042703,\n",
       " 0.013115610090399854,\n",
       " 0.10330183674042703,\n",
       " 0.10330183674042703,\n",
       " 0.10330183674042703,\n",
       " 0.10330183674042703,\n",
       " 0.013115610090399854,\n",
       " 0.10330183674042703,\n",
       " 0.10330183674042703,\n",
       " -0.1446144142823237,\n",
       " 0.10330183674042703,\n",
       " 0.013630947752081679,\n",
       " 0.10330183674042703,\n",
       " 0.013115610090399854,\n",
       " 0.10330183674042703,\n",
       " 0.10330183674042703,\n",
       " 0.10330183674042703,\n",
       " 0.10330183674042703,\n",
       " 0.10330183674042703,\n",
       " 0.10330183674042703,\n",
       " 0.10330183674042703,\n",
       " 0.10330183674042703,\n",
       " 0.10330183674042703,\n",
       " 0.013630947752081679,\n",
       " -0.18024382729529465,\n",
       " 0.013115610090399854,\n",
       " 0.10330183674042703,\n",
       " 0.10330183674042703,\n",
       " 0.10330183674042703,\n",
       " 0.10330183674042703,\n",
       " 0.10330183674042703,\n",
       " 0.10330183674042703,\n",
       " 0.10330183674042703,\n",
       " 0.10330183674042703,\n",
       " 0.10330183674042703,\n",
       " 0.10330183674042703,\n",
       " 0.10330183674042703,\n",
       " 0.013630947752081679,\n",
       " 0.013115610090399854,\n",
       " 0.10330183674042703,\n",
       " 0.10330183674042703,\n",
       " 0.10330183674042703,\n",
       " 0.10330183674042703,\n",
       " 0.013630947752081679,\n",
       " 0.10330183674042703,\n",
       " 0.10330183674042703,\n",
       " 0.10330183674042703,\n",
       " 0.10330183674042703,\n",
       " 0.10330183674042703,\n",
       " 0.10330183674042703,\n",
       " 0.10330183674042703,\n",
       " 0.10330183674042703,\n",
       " 0.10330183674042703,\n",
       " 0.013630947752081679,\n",
       " 0.013630947752081679,\n",
       " 0.10330183674042703,\n",
       " 0.013115610090399854,\n",
       " 0.10330183674042703,\n",
       " 0.013630947752081679,\n",
       " 0.013630947752081679,\n",
       " 0.10330183674042703,\n",
       " 0.10330183674042703,\n",
       " 0.10330183674042703,\n",
       " 0.013115610090399854,\n",
       " 0.10330183674042703,\n",
       " 0.10330183674042703,\n",
       " 0.10330183674042703,\n",
       " 0.10330183674042703,\n",
       " 0.10330183674042703,\n",
       " 0.013630947752081679,\n",
       " 0.013115610090399854,\n",
       " 0.10330183674042703,\n",
       " 0.013115610090399854,\n",
       " 0.10330183674042703,\n",
       " 0.10330183674042703]"
      ]
     },
     "execution_count": 14,
     "metadata": {},
     "output_type": "execute_result"
    }
   ],
   "source": [
    "graph_a_score.tolist()"
   ]
  },
  {
   "cell_type": "code",
   "execution_count": 16,
   "metadata": {
    "collapsed": false
   },
   "outputs": [],
   "source": [
    "# Define an empty datframe to store the result for the graph input features\n",
    "graph_result = pd.DataFrame()\n"
   ]
  },
  {
   "cell_type": "code",
   "execution_count": 19,
   "metadata": {
    "collapsed": true
   },
   "outputs": [],
   "source": [
    "#graph_result['user'] = user_pc['user']\n",
    "graph_result['ascore'] = graph_a_score"
   ]
  },
  {
   "cell_type": "code",
   "execution_count": 25,
   "metadata": {
    "collapsed": false
   },
   "outputs": [
    {
     "data": {
      "text/html": [
       "<div>\n",
       "<style>\n",
       "    .dataframe thead tr:only-child th {\n",
       "        text-align: right;\n",
       "    }\n",
       "\n",
       "    .dataframe thead th {\n",
       "        text-align: left;\n",
       "    }\n",
       "\n",
       "    .dataframe tbody tr th {\n",
       "        vertical-align: top;\n",
       "    }\n",
       "</style>\n",
       "<table border=\"1\" class=\"dataframe\">\n",
       "  <thead>\n",
       "    <tr style=\"text-align: right;\">\n",
       "      <th></th>\n",
       "      <th>user</th>\n",
       "      <th>ascore</th>\n",
       "    </tr>\n",
       "  </thead>\n",
       "  <tbody>\n",
       "    <tr>\n",
       "      <th>6</th>\n",
       "      <td>ALC0100</td>\n",
       "      <td>-0.103263</td>\n",
       "    </tr>\n",
       "    <tr>\n",
       "      <th>28</th>\n",
       "      <td>CQS0899</td>\n",
       "      <td>-0.155851</td>\n",
       "    </tr>\n",
       "    <tr>\n",
       "      <th>29</th>\n",
       "      <td>EER0383</td>\n",
       "      <td>-0.111679</td>\n",
       "    </tr>\n",
       "    <tr>\n",
       "      <th>30</th>\n",
       "      <td>BGZ0902</td>\n",
       "      <td>-0.203619</td>\n",
       "    </tr>\n",
       "    <tr>\n",
       "      <th>31</th>\n",
       "      <td>DNS0397</td>\n",
       "      <td>-0.177912</td>\n",
       "    </tr>\n",
       "    <tr>\n",
       "      <th>59</th>\n",
       "      <td>CGH0088</td>\n",
       "      <td>-0.144614</td>\n",
       "    </tr>\n",
       "    <tr>\n",
       "      <th>66</th>\n",
       "      <td>WJP0386</td>\n",
       "      <td>-0.222789</td>\n",
       "    </tr>\n",
       "    <tr>\n",
       "      <th>86</th>\n",
       "      <td>FED0275</td>\n",
       "      <td>-0.204590</td>\n",
       "    </tr>\n",
       "    <tr>\n",
       "      <th>95</th>\n",
       "      <td>WMP0272</td>\n",
       "      <td>-0.131175</td>\n",
       "    </tr>\n",
       "    <tr>\n",
       "      <th>142</th>\n",
       "      <td>LWB0078</td>\n",
       "      <td>-0.288367</td>\n",
       "    </tr>\n",
       "    <tr>\n",
       "      <th>155</th>\n",
       "      <td>PYT0264</td>\n",
       "      <td>-0.138658</td>\n",
       "    </tr>\n",
       "    <tr>\n",
       "      <th>166</th>\n",
       "      <td>ARH0777</td>\n",
       "      <td>-0.144614</td>\n",
       "    </tr>\n",
       "    <tr>\n",
       "      <th>181</th>\n",
       "      <td>AJR0231</td>\n",
       "      <td>-0.180244</td>\n",
       "    </tr>\n",
       "  </tbody>\n",
       "</table>\n",
       "</div>"
      ],
      "text/plain": [
       "        user    ascore\n",
       "6    ALC0100 -0.103263\n",
       "28   CQS0899 -0.155851\n",
       "29   EER0383 -0.111679\n",
       "30   BGZ0902 -0.203619\n",
       "31   DNS0397 -0.177912\n",
       "59   CGH0088 -0.144614\n",
       "66   WJP0386 -0.222789\n",
       "86   FED0275 -0.204590\n",
       "95   WMP0272 -0.131175\n",
       "142  LWB0078 -0.288367\n",
       "155  PYT0264 -0.138658\n",
       "166  ARH0777 -0.144614\n",
       "181  AJR0231 -0.180244"
      ]
     },
     "execution_count": 25,
     "metadata": {},
     "output_type": "execute_result"
    }
   ],
   "source": [
    "graph_result.loc[graph_result['ascore'] < 0] # possible outliers"
   ]
  },
  {
   "cell_type": "code",
   "execution_count": 26,
   "metadata": {
    "collapsed": true
   },
   "outputs": [],
   "source": [
    "# Save the graph result\n",
    "graph_result.to_csv('./Data_Subset/IFResult/graph_result.csv', index = False)"
   ]
  },
  {
   "cell_type": "markdown",
   "metadata": {},
   "source": [
    "-  #### Model with Logon/Logoff parameters as input features"
   ]
  },
  {
   "cell_type": "code",
   "execution_count": 27,
   "metadata": {
    "collapsed": true
   },
   "outputs": [],
   "source": [
    "# Load Logon/Logoff statistics data saved previously\n",
    "\n",
    "user_logon_stats = pd.read_csv('./Data_Subset/Input_features/user_logon_stats.csv')"
   ]
  },
  {
   "cell_type": "code",
   "execution_count": 28,
   "metadata": {
    "collapsed": false
   },
   "outputs": [
    {
     "data": {
      "text/html": [
       "<div>\n",
       "<style>\n",
       "    .dataframe thead tr:only-child th {\n",
       "        text-align: right;\n",
       "    }\n",
       "\n",
       "    .dataframe thead th {\n",
       "        text-align: left;\n",
       "    }\n",
       "\n",
       "    .dataframe tbody tr th {\n",
       "        vertical-align: top;\n",
       "    }\n",
       "</style>\n",
       "<table border=\"1\" class=\"dataframe\">\n",
       "  <thead>\n",
       "    <tr style=\"text-align: right;\">\n",
       "      <th></th>\n",
       "      <th>user</th>\n",
       "      <th>min</th>\n",
       "      <th>max</th>\n",
       "      <th>mode</th>\n",
       "      <th>mean</th>\n",
       "    </tr>\n",
       "  </thead>\n",
       "  <tbody>\n",
       "    <tr>\n",
       "      <th>0</th>\n",
       "      <td>AAN0077</td>\n",
       "      <td>07:45:00</td>\n",
       "      <td>08:13:00</td>\n",
       "      <td>08:13:00</td>\n",
       "      <td>07:00:00</td>\n",
       "    </tr>\n",
       "    <tr>\n",
       "      <th>1</th>\n",
       "      <td>AAW0103</td>\n",
       "      <td>07:00:00</td>\n",
       "      <td>07:18:00</td>\n",
       "      <td>07:15:00</td>\n",
       "      <td>07:00:00</td>\n",
       "    </tr>\n",
       "    <tr>\n",
       "      <th>2</th>\n",
       "      <td>ACE0265</td>\n",
       "      <td>08:00:00</td>\n",
       "      <td>08:25:00</td>\n",
       "      <td>08:15:00</td>\n",
       "      <td>08:00:00</td>\n",
       "    </tr>\n",
       "    <tr>\n",
       "      <th>3</th>\n",
       "      <td>ACL0394</td>\n",
       "      <td>09:00:00</td>\n",
       "      <td>16:52:37</td>\n",
       "      <td>09:15:00</td>\n",
       "      <td>09:00:00</td>\n",
       "    </tr>\n",
       "    <tr>\n",
       "      <th>4</th>\n",
       "      <td>ADR0362</td>\n",
       "      <td>07:30:00</td>\n",
       "      <td>07:48:00</td>\n",
       "      <td>07:48:00</td>\n",
       "      <td>07:00:00</td>\n",
       "    </tr>\n",
       "  </tbody>\n",
       "</table>\n",
       "</div>"
      ],
      "text/plain": [
       "      user       min       max      mode      mean\n",
       "0  AAN0077  07:45:00  08:13:00  08:13:00  07:00:00\n",
       "1  AAW0103  07:00:00  07:18:00  07:15:00  07:00:00\n",
       "2  ACE0265  08:00:00  08:25:00  08:15:00  08:00:00\n",
       "3  ACL0394  09:00:00  16:52:37  09:15:00  09:00:00\n",
       "4  ADR0362  07:30:00  07:48:00  07:48:00  07:00:00"
      ]
     },
     "execution_count": 28,
     "metadata": {},
     "output_type": "execute_result"
    }
   ],
   "source": [
    "user_logon_stats.head()"
   ]
  },
  {
   "cell_type": "code",
   "execution_count": 31,
   "metadata": {
    "collapsed": false
   },
   "outputs": [
    {
     "data": {
      "text/plain": [
       "dtype('O')"
      ]
     },
     "execution_count": 31,
     "metadata": {},
     "output_type": "execute_result"
    }
   ],
   "source": [
    "user_logon_stats['min'].dtype"
   ]
  },
  {
   "cell_type": "code",
   "execution_count": 41,
   "metadata": {
    "collapsed": false
   },
   "outputs": [
    {
     "data": {
      "text/plain": [
       "7"
      ]
     },
     "execution_count": 41,
     "metadata": {},
     "output_type": "execute_result"
    }
   ],
   "source": [
    "pd.to_datetime(user_logon_stats['min'][1]).hour"
   ]
  },
  {
   "cell_type": "markdown",
   "metadata": {},
   "source": [
    "#### sklearn algorithms do not take categorical/object as input parameters, hence need to convert the time object into numerical equivalents/values"
   ]
  },
  {
   "cell_type": "code",
   "execution_count": 47,
   "metadata": {
    "collapsed": true
   },
   "outputs": [],
   "source": [
    "# Function to convert datetime 'time' to time in seconds\n",
    "\n",
    "def dtt2timestamp(dtt):\n",
    "    ts = (dtt.hour * 60 + dtt.minute) * 60 + dtt.second\n",
    "    #if you want microseconds as well\n",
    "    #ts += dtt.microsecond * 10**(-6)\n",
    "    return ts\n"
   ]
  },
  {
   "cell_type": "code",
   "execution_count": 42,
   "metadata": {
    "collapsed": true
   },
   "outputs": [],
   "source": [
    "user_logon_stats1 = user_logon_stats"
   ]
  },
  {
   "cell_type": "code",
   "execution_count": 45,
   "metadata": {
    "collapsed": true
   },
   "outputs": [],
   "source": [
    "user_logon_stats1['min_dt'] = pd.to_datetime(user_logon_stats['min'])\n",
    "user_logon_stats1['max_dt'] = pd.to_datetime(user_logon_stats['max'])\n",
    "user_logon_stats1['mode_dt'] = pd.to_datetime(user_logon_stats['mode'])\n",
    "user_logon_stats1['mean_dt'] = pd.to_datetime(user_logon_stats['mean'])"
   ]
  },
  {
   "cell_type": "code",
   "execution_count": 46,
   "metadata": {
    "collapsed": false
   },
   "outputs": [
    {
     "data": {
      "text/html": [
       "<div>\n",
       "<style>\n",
       "    .dataframe thead tr:only-child th {\n",
       "        text-align: right;\n",
       "    }\n",
       "\n",
       "    .dataframe thead th {\n",
       "        text-align: left;\n",
       "    }\n",
       "\n",
       "    .dataframe tbody tr th {\n",
       "        vertical-align: top;\n",
       "    }\n",
       "</style>\n",
       "<table border=\"1\" class=\"dataframe\">\n",
       "  <thead>\n",
       "    <tr style=\"text-align: right;\">\n",
       "      <th></th>\n",
       "      <th>user</th>\n",
       "      <th>min</th>\n",
       "      <th>max</th>\n",
       "      <th>mode</th>\n",
       "      <th>mean</th>\n",
       "      <th>min_dt</th>\n",
       "      <th>max_dt</th>\n",
       "      <th>mode_dt</th>\n",
       "      <th>mean_dt</th>\n",
       "    </tr>\n",
       "  </thead>\n",
       "  <tbody>\n",
       "    <tr>\n",
       "      <th>0</th>\n",
       "      <td>AAN0077</td>\n",
       "      <td>07:45:00</td>\n",
       "      <td>08:13:00</td>\n",
       "      <td>08:13:00</td>\n",
       "      <td>07:00:00</td>\n",
       "      <td>2017-06-19 07:45:00</td>\n",
       "      <td>2017-06-19 08:13:00</td>\n",
       "      <td>2017-06-19 08:13:00</td>\n",
       "      <td>2017-06-19 07:00:00</td>\n",
       "    </tr>\n",
       "    <tr>\n",
       "      <th>1</th>\n",
       "      <td>AAW0103</td>\n",
       "      <td>07:00:00</td>\n",
       "      <td>07:18:00</td>\n",
       "      <td>07:15:00</td>\n",
       "      <td>07:00:00</td>\n",
       "      <td>2017-06-19 07:00:00</td>\n",
       "      <td>2017-06-19 07:18:00</td>\n",
       "      <td>2017-06-19 07:15:00</td>\n",
       "      <td>2017-06-19 07:00:00</td>\n",
       "    </tr>\n",
       "    <tr>\n",
       "      <th>2</th>\n",
       "      <td>ACE0265</td>\n",
       "      <td>08:00:00</td>\n",
       "      <td>08:25:00</td>\n",
       "      <td>08:15:00</td>\n",
       "      <td>08:00:00</td>\n",
       "      <td>2017-06-19 08:00:00</td>\n",
       "      <td>2017-06-19 08:25:00</td>\n",
       "      <td>2017-06-19 08:15:00</td>\n",
       "      <td>2017-06-19 08:00:00</td>\n",
       "    </tr>\n",
       "    <tr>\n",
       "      <th>3</th>\n",
       "      <td>ACL0394</td>\n",
       "      <td>09:00:00</td>\n",
       "      <td>16:52:37</td>\n",
       "      <td>09:15:00</td>\n",
       "      <td>09:00:00</td>\n",
       "      <td>2017-06-19 09:00:00</td>\n",
       "      <td>2017-06-19 16:52:37</td>\n",
       "      <td>2017-06-19 09:15:00</td>\n",
       "      <td>2017-06-19 09:00:00</td>\n",
       "    </tr>\n",
       "    <tr>\n",
       "      <th>4</th>\n",
       "      <td>ADR0362</td>\n",
       "      <td>07:30:00</td>\n",
       "      <td>07:48:00</td>\n",
       "      <td>07:48:00</td>\n",
       "      <td>07:00:00</td>\n",
       "      <td>2017-06-19 07:30:00</td>\n",
       "      <td>2017-06-19 07:48:00</td>\n",
       "      <td>2017-06-19 07:48:00</td>\n",
       "      <td>2017-06-19 07:00:00</td>\n",
       "    </tr>\n",
       "  </tbody>\n",
       "</table>\n",
       "</div>"
      ],
      "text/plain": [
       "      user       min       max      mode      mean              min_dt  \\\n",
       "0  AAN0077  07:45:00  08:13:00  08:13:00  07:00:00 2017-06-19 07:45:00   \n",
       "1  AAW0103  07:00:00  07:18:00  07:15:00  07:00:00 2017-06-19 07:00:00   \n",
       "2  ACE0265  08:00:00  08:25:00  08:15:00  08:00:00 2017-06-19 08:00:00   \n",
       "3  ACL0394  09:00:00  16:52:37  09:15:00  09:00:00 2017-06-19 09:00:00   \n",
       "4  ADR0362  07:30:00  07:48:00  07:48:00  07:00:00 2017-06-19 07:30:00   \n",
       "\n",
       "               max_dt             mode_dt             mean_dt  \n",
       "0 2017-06-19 08:13:00 2017-06-19 08:13:00 2017-06-19 07:00:00  \n",
       "1 2017-06-19 07:18:00 2017-06-19 07:15:00 2017-06-19 07:00:00  \n",
       "2 2017-06-19 08:25:00 2017-06-19 08:15:00 2017-06-19 08:00:00  \n",
       "3 2017-06-19 16:52:37 2017-06-19 09:15:00 2017-06-19 09:00:00  \n",
       "4 2017-06-19 07:48:00 2017-06-19 07:48:00 2017-06-19 07:00:00  "
      ]
     },
     "execution_count": 46,
     "metadata": {},
     "output_type": "execute_result"
    }
   ],
   "source": [
    "user_logon_stats1.head()"
   ]
  },
  {
   "cell_type": "code",
   "execution_count": 50,
   "metadata": {
    "collapsed": true
   },
   "outputs": [],
   "source": [
    "# use the function to generate time in sec value\n",
    "\n",
    "min_ts = [dtt2timestamp(dtt) for dtt in user_logon_stats1['min_dt']] \n",
    "max_ts = [dtt2timestamp(dtt) for dtt in user_logon_stats1['max_dt']]\n",
    "mode_ts = [dtt2timestamp(dtt) for dtt in user_logon_stats1['mode_dt']]\n",
    "mean_ts = [dtt2timestamp(dtt) for dtt in user_logon_stats1['mean_dt']]\n"
   ]
  },
  {
   "cell_type": "code",
   "execution_count": 53,
   "metadata": {
    "collapsed": true
   },
   "outputs": [],
   "source": [
    "\n",
    "user_logon_stats1['min_ts'] = min_ts\n",
    "user_logon_stats1['max_ts'] = max_ts\n",
    "user_logon_stats1['mode_ts'] = mode_ts\n",
    "user_logon_stats1['mean_ts'] = mean_ts"
   ]
  },
  {
   "cell_type": "code",
   "execution_count": 54,
   "metadata": {
    "collapsed": false
   },
   "outputs": [],
   "source": [
    "# new df to store the tsec values\n",
    "user_logon_stats_tsec = pd.DataFrame()\n",
    "\n",
    "user_logon_stats_tsec['user'] = user_logon_stats1['user']\n",
    "user_logon_stats_tsec['min_ts'] = user_logon_stats1['min_ts']\n",
    "user_logon_stats_tsec['max_ts'] = user_logon_stats1['max_ts']\n",
    "user_logon_stats_tsec['mode_ts'] = user_logon_stats1['mode_ts']\n",
    "user_logon_stats_tsec['mean_ts'] = user_logon_stats1['mean_ts']\n"
   ]
  },
  {
   "cell_type": "code",
   "execution_count": 55,
   "metadata": {
    "collapsed": false
   },
   "outputs": [
    {
     "data": {
      "text/html": [
       "<div>\n",
       "<style>\n",
       "    .dataframe thead tr:only-child th {\n",
       "        text-align: right;\n",
       "    }\n",
       "\n",
       "    .dataframe thead th {\n",
       "        text-align: left;\n",
       "    }\n",
       "\n",
       "    .dataframe tbody tr th {\n",
       "        vertical-align: top;\n",
       "    }\n",
       "</style>\n",
       "<table border=\"1\" class=\"dataframe\">\n",
       "  <thead>\n",
       "    <tr style=\"text-align: right;\">\n",
       "      <th></th>\n",
       "      <th>user</th>\n",
       "      <th>min_ts</th>\n",
       "      <th>max_ts</th>\n",
       "      <th>mode_ts</th>\n",
       "      <th>mean_ts</th>\n",
       "    </tr>\n",
       "  </thead>\n",
       "  <tbody>\n",
       "    <tr>\n",
       "      <th>0</th>\n",
       "      <td>AAN0077</td>\n",
       "      <td>27900</td>\n",
       "      <td>29580</td>\n",
       "      <td>29580</td>\n",
       "      <td>25200</td>\n",
       "    </tr>\n",
       "    <tr>\n",
       "      <th>1</th>\n",
       "      <td>AAW0103</td>\n",
       "      <td>25200</td>\n",
       "      <td>26280</td>\n",
       "      <td>26100</td>\n",
       "      <td>25200</td>\n",
       "    </tr>\n",
       "    <tr>\n",
       "      <th>2</th>\n",
       "      <td>ACE0265</td>\n",
       "      <td>28800</td>\n",
       "      <td>30300</td>\n",
       "      <td>29700</td>\n",
       "      <td>28800</td>\n",
       "    </tr>\n",
       "    <tr>\n",
       "      <th>3</th>\n",
       "      <td>ACL0394</td>\n",
       "      <td>32400</td>\n",
       "      <td>60757</td>\n",
       "      <td>33300</td>\n",
       "      <td>32400</td>\n",
       "    </tr>\n",
       "    <tr>\n",
       "      <th>4</th>\n",
       "      <td>ADR0362</td>\n",
       "      <td>27000</td>\n",
       "      <td>28080</td>\n",
       "      <td>28080</td>\n",
       "      <td>25200</td>\n",
       "    </tr>\n",
       "  </tbody>\n",
       "</table>\n",
       "</div>"
      ],
      "text/plain": [
       "      user  min_ts  max_ts  mode_ts  mean_ts\n",
       "0  AAN0077   27900   29580    29580    25200\n",
       "1  AAW0103   25200   26280    26100    25200\n",
       "2  ACE0265   28800   30300    29700    28800\n",
       "3  ACL0394   32400   60757    33300    32400\n",
       "4  ADR0362   27000   28080    28080    25200"
      ]
     },
     "execution_count": 55,
     "metadata": {},
     "output_type": "execute_result"
    }
   ],
   "source": [
    "user_logon_stats_tsec.head()"
   ]
  },
  {
   "cell_type": "code",
   "execution_count": 56,
   "metadata": {
    "collapsed": true
   },
   "outputs": [],
   "source": [
    "# save the data\n",
    "user_logon_stats_tsec.to_csv('./Data_Subset/Input_features/user_logon_stats_tsec.csv', index = False)"
   ]
  },
  {
   "cell_type": "code",
   "execution_count": 58,
   "metadata": {
    "collapsed": false
   },
   "outputs": [],
   "source": [
    "user_logoff_stats = pd.read_csv('./Data_Subset/Input_features/user_logoff_stats.csv')"
   ]
  },
  {
   "cell_type": "code",
   "execution_count": 59,
   "metadata": {
    "collapsed": false
   },
   "outputs": [
    {
     "data": {
      "text/html": [
       "<div>\n",
       "<style>\n",
       "    .dataframe thead tr:only-child th {\n",
       "        text-align: right;\n",
       "    }\n",
       "\n",
       "    .dataframe thead th {\n",
       "        text-align: left;\n",
       "    }\n",
       "\n",
       "    .dataframe tbody tr th {\n",
       "        vertical-align: top;\n",
       "    }\n",
       "</style>\n",
       "<table border=\"1\" class=\"dataframe\">\n",
       "  <thead>\n",
       "    <tr style=\"text-align: right;\">\n",
       "      <th></th>\n",
       "      <th>user</th>\n",
       "      <th>min</th>\n",
       "      <th>max</th>\n",
       "      <th>mode</th>\n",
       "      <th>mean</th>\n",
       "    </tr>\n",
       "  </thead>\n",
       "  <tbody>\n",
       "    <tr>\n",
       "      <th>0</th>\n",
       "      <td>AAN0077</td>\n",
       "      <td>16:47:00</td>\n",
       "      <td>17:15:00</td>\n",
       "      <td>16:56:00</td>\n",
       "      <td>16:00:00</td>\n",
       "    </tr>\n",
       "    <tr>\n",
       "      <th>1</th>\n",
       "      <td>AAW0103</td>\n",
       "      <td>16:12:00</td>\n",
       "      <td>16:30:00</td>\n",
       "      <td>16:14:00</td>\n",
       "      <td>16:00:00</td>\n",
       "    </tr>\n",
       "    <tr>\n",
       "      <th>2</th>\n",
       "      <td>ACE0265</td>\n",
       "      <td>16:05:00</td>\n",
       "      <td>16:30:00</td>\n",
       "      <td>16:06:00</td>\n",
       "      <td>16:00:00</td>\n",
       "    </tr>\n",
       "    <tr>\n",
       "      <th>3</th>\n",
       "      <td>ACL0394</td>\n",
       "      <td>09:13:55</td>\n",
       "      <td>17:30:00</td>\n",
       "      <td>17:15:00</td>\n",
       "      <td>16:00:00</td>\n",
       "    </tr>\n",
       "    <tr>\n",
       "      <th>4</th>\n",
       "      <td>ADR0362</td>\n",
       "      <td>16:42:00</td>\n",
       "      <td>17:00:00</td>\n",
       "      <td>16:45:00</td>\n",
       "      <td>16:00:00</td>\n",
       "    </tr>\n",
       "  </tbody>\n",
       "</table>\n",
       "</div>"
      ],
      "text/plain": [
       "      user       min       max      mode      mean\n",
       "0  AAN0077  16:47:00  17:15:00  16:56:00  16:00:00\n",
       "1  AAW0103  16:12:00  16:30:00  16:14:00  16:00:00\n",
       "2  ACE0265  16:05:00  16:30:00  16:06:00  16:00:00\n",
       "3  ACL0394  09:13:55  17:30:00  17:15:00  16:00:00\n",
       "4  ADR0362  16:42:00  17:00:00  16:45:00  16:00:00"
      ]
     },
     "execution_count": 59,
     "metadata": {},
     "output_type": "execute_result"
    }
   ],
   "source": [
    "user_logoff_stats.head()"
   ]
  },
  {
   "cell_type": "code",
   "execution_count": 60,
   "metadata": {
    "collapsed": true
   },
   "outputs": [],
   "source": [
    "user_logoff_stats1 = user_logoff_stats"
   ]
  },
  {
   "cell_type": "code",
   "execution_count": 61,
   "metadata": {
    "collapsed": true
   },
   "outputs": [],
   "source": [
    "user_logoff_stats1['min_dt'] = pd.to_datetime(user_logoff_stats['min'])\n",
    "user_logoff_stats1['max_dt'] = pd.to_datetime(user_logoff_stats['max'])\n",
    "user_logoff_stats1['mode_dt'] = pd.to_datetime(user_logoff_stats['mode'])\n",
    "user_logoff_stats1['mean_dt'] = pd.to_datetime(user_logoff_stats['mean'])"
   ]
  },
  {
   "cell_type": "code",
   "execution_count": 62,
   "metadata": {
    "collapsed": false
   },
   "outputs": [
    {
     "data": {
      "text/html": [
       "<div>\n",
       "<style>\n",
       "    .dataframe thead tr:only-child th {\n",
       "        text-align: right;\n",
       "    }\n",
       "\n",
       "    .dataframe thead th {\n",
       "        text-align: left;\n",
       "    }\n",
       "\n",
       "    .dataframe tbody tr th {\n",
       "        vertical-align: top;\n",
       "    }\n",
       "</style>\n",
       "<table border=\"1\" class=\"dataframe\">\n",
       "  <thead>\n",
       "    <tr style=\"text-align: right;\">\n",
       "      <th></th>\n",
       "      <th>user</th>\n",
       "      <th>min</th>\n",
       "      <th>max</th>\n",
       "      <th>mode</th>\n",
       "      <th>mean</th>\n",
       "      <th>min_dt</th>\n",
       "      <th>max_dt</th>\n",
       "      <th>mode_dt</th>\n",
       "      <th>mean_dt</th>\n",
       "    </tr>\n",
       "  </thead>\n",
       "  <tbody>\n",
       "    <tr>\n",
       "      <th>0</th>\n",
       "      <td>AAN0077</td>\n",
       "      <td>16:47:00</td>\n",
       "      <td>17:15:00</td>\n",
       "      <td>16:56:00</td>\n",
       "      <td>16:00:00</td>\n",
       "      <td>2017-06-19 16:47:00</td>\n",
       "      <td>2017-06-19 17:15:00</td>\n",
       "      <td>2017-06-19 16:56:00</td>\n",
       "      <td>2017-06-19 16:00:00</td>\n",
       "    </tr>\n",
       "    <tr>\n",
       "      <th>1</th>\n",
       "      <td>AAW0103</td>\n",
       "      <td>16:12:00</td>\n",
       "      <td>16:30:00</td>\n",
       "      <td>16:14:00</td>\n",
       "      <td>16:00:00</td>\n",
       "      <td>2017-06-19 16:12:00</td>\n",
       "      <td>2017-06-19 16:30:00</td>\n",
       "      <td>2017-06-19 16:14:00</td>\n",
       "      <td>2017-06-19 16:00:00</td>\n",
       "    </tr>\n",
       "    <tr>\n",
       "      <th>2</th>\n",
       "      <td>ACE0265</td>\n",
       "      <td>16:05:00</td>\n",
       "      <td>16:30:00</td>\n",
       "      <td>16:06:00</td>\n",
       "      <td>16:00:00</td>\n",
       "      <td>2017-06-19 16:05:00</td>\n",
       "      <td>2017-06-19 16:30:00</td>\n",
       "      <td>2017-06-19 16:06:00</td>\n",
       "      <td>2017-06-19 16:00:00</td>\n",
       "    </tr>\n",
       "    <tr>\n",
       "      <th>3</th>\n",
       "      <td>ACL0394</td>\n",
       "      <td>09:13:55</td>\n",
       "      <td>17:30:00</td>\n",
       "      <td>17:15:00</td>\n",
       "      <td>16:00:00</td>\n",
       "      <td>2017-06-19 09:13:55</td>\n",
       "      <td>2017-06-19 17:30:00</td>\n",
       "      <td>2017-06-19 17:15:00</td>\n",
       "      <td>2017-06-19 16:00:00</td>\n",
       "    </tr>\n",
       "    <tr>\n",
       "      <th>4</th>\n",
       "      <td>ADR0362</td>\n",
       "      <td>16:42:00</td>\n",
       "      <td>17:00:00</td>\n",
       "      <td>16:45:00</td>\n",
       "      <td>16:00:00</td>\n",
       "      <td>2017-06-19 16:42:00</td>\n",
       "      <td>2017-06-19 17:00:00</td>\n",
       "      <td>2017-06-19 16:45:00</td>\n",
       "      <td>2017-06-19 16:00:00</td>\n",
       "    </tr>\n",
       "  </tbody>\n",
       "</table>\n",
       "</div>"
      ],
      "text/plain": [
       "      user       min       max      mode      mean              min_dt  \\\n",
       "0  AAN0077  16:47:00  17:15:00  16:56:00  16:00:00 2017-06-19 16:47:00   \n",
       "1  AAW0103  16:12:00  16:30:00  16:14:00  16:00:00 2017-06-19 16:12:00   \n",
       "2  ACE0265  16:05:00  16:30:00  16:06:00  16:00:00 2017-06-19 16:05:00   \n",
       "3  ACL0394  09:13:55  17:30:00  17:15:00  16:00:00 2017-06-19 09:13:55   \n",
       "4  ADR0362  16:42:00  17:00:00  16:45:00  16:00:00 2017-06-19 16:42:00   \n",
       "\n",
       "               max_dt             mode_dt             mean_dt  \n",
       "0 2017-06-19 17:15:00 2017-06-19 16:56:00 2017-06-19 16:00:00  \n",
       "1 2017-06-19 16:30:00 2017-06-19 16:14:00 2017-06-19 16:00:00  \n",
       "2 2017-06-19 16:30:00 2017-06-19 16:06:00 2017-06-19 16:00:00  \n",
       "3 2017-06-19 17:30:00 2017-06-19 17:15:00 2017-06-19 16:00:00  \n",
       "4 2017-06-19 17:00:00 2017-06-19 16:45:00 2017-06-19 16:00:00  "
      ]
     },
     "execution_count": 62,
     "metadata": {},
     "output_type": "execute_result"
    }
   ],
   "source": [
    "user_logoff_stats1.head()"
   ]
  },
  {
   "cell_type": "code",
   "execution_count": 63,
   "metadata": {
    "collapsed": true
   },
   "outputs": [],
   "source": [
    "# use the function to generate time in sec value\n",
    "\n",
    "off_min_ts = [dtt2timestamp(dtt) for dtt in user_logoff_stats1['min_dt']] \n",
    "off_max_ts = [dtt2timestamp(dtt) for dtt in user_logoff_stats1['max_dt']]\n",
    "off_mode_ts = [dtt2timestamp(dtt) for dtt in user_logoff_stats1['mode_dt']]\n",
    "off_mean_ts = [dtt2timestamp(dtt) for dtt in user_logoff_stats1['mean_dt']]\n",
    "\n"
   ]
  },
  {
   "cell_type": "code",
   "execution_count": 64,
   "metadata": {
    "collapsed": true
   },
   "outputs": [],
   "source": [
    "user_logoff_stats1['min_ts'] =off_min_ts\n",
    "user_logoff_stats1['max_ts'] = off_max_ts\n",
    "user_logoff_stats1['mode_ts'] = off_mode_ts\n",
    "user_logoff_stats1['mean_ts'] = off_mean_ts"
   ]
  },
  {
   "cell_type": "code",
   "execution_count": 65,
   "metadata": {
    "collapsed": false
   },
   "outputs": [
    {
     "data": {
      "text/html": [
       "<div>\n",
       "<style>\n",
       "    .dataframe thead tr:only-child th {\n",
       "        text-align: right;\n",
       "    }\n",
       "\n",
       "    .dataframe thead th {\n",
       "        text-align: left;\n",
       "    }\n",
       "\n",
       "    .dataframe tbody tr th {\n",
       "        vertical-align: top;\n",
       "    }\n",
       "</style>\n",
       "<table border=\"1\" class=\"dataframe\">\n",
       "  <thead>\n",
       "    <tr style=\"text-align: right;\">\n",
       "      <th></th>\n",
       "      <th>user</th>\n",
       "      <th>min</th>\n",
       "      <th>max</th>\n",
       "      <th>mode</th>\n",
       "      <th>mean</th>\n",
       "      <th>min_dt</th>\n",
       "      <th>max_dt</th>\n",
       "      <th>mode_dt</th>\n",
       "      <th>mean_dt</th>\n",
       "      <th>min_ts</th>\n",
       "      <th>max_ts</th>\n",
       "      <th>mode_ts</th>\n",
       "      <th>mean_ts</th>\n",
       "    </tr>\n",
       "  </thead>\n",
       "  <tbody>\n",
       "    <tr>\n",
       "      <th>0</th>\n",
       "      <td>AAN0077</td>\n",
       "      <td>16:47:00</td>\n",
       "      <td>17:15:00</td>\n",
       "      <td>16:56:00</td>\n",
       "      <td>16:00:00</td>\n",
       "      <td>2017-06-19 16:47:00</td>\n",
       "      <td>2017-06-19 17:15:00</td>\n",
       "      <td>2017-06-19 16:56:00</td>\n",
       "      <td>2017-06-19 16:00:00</td>\n",
       "      <td>60420</td>\n",
       "      <td>62100</td>\n",
       "      <td>60960</td>\n",
       "      <td>57600</td>\n",
       "    </tr>\n",
       "    <tr>\n",
       "      <th>1</th>\n",
       "      <td>AAW0103</td>\n",
       "      <td>16:12:00</td>\n",
       "      <td>16:30:00</td>\n",
       "      <td>16:14:00</td>\n",
       "      <td>16:00:00</td>\n",
       "      <td>2017-06-19 16:12:00</td>\n",
       "      <td>2017-06-19 16:30:00</td>\n",
       "      <td>2017-06-19 16:14:00</td>\n",
       "      <td>2017-06-19 16:00:00</td>\n",
       "      <td>58320</td>\n",
       "      <td>59400</td>\n",
       "      <td>58440</td>\n",
       "      <td>57600</td>\n",
       "    </tr>\n",
       "    <tr>\n",
       "      <th>2</th>\n",
       "      <td>ACE0265</td>\n",
       "      <td>16:05:00</td>\n",
       "      <td>16:30:00</td>\n",
       "      <td>16:06:00</td>\n",
       "      <td>16:00:00</td>\n",
       "      <td>2017-06-19 16:05:00</td>\n",
       "      <td>2017-06-19 16:30:00</td>\n",
       "      <td>2017-06-19 16:06:00</td>\n",
       "      <td>2017-06-19 16:00:00</td>\n",
       "      <td>57900</td>\n",
       "      <td>59400</td>\n",
       "      <td>57960</td>\n",
       "      <td>57600</td>\n",
       "    </tr>\n",
       "    <tr>\n",
       "      <th>3</th>\n",
       "      <td>ACL0394</td>\n",
       "      <td>09:13:55</td>\n",
       "      <td>17:30:00</td>\n",
       "      <td>17:15:00</td>\n",
       "      <td>16:00:00</td>\n",
       "      <td>2017-06-19 09:13:55</td>\n",
       "      <td>2017-06-19 17:30:00</td>\n",
       "      <td>2017-06-19 17:15:00</td>\n",
       "      <td>2017-06-19 16:00:00</td>\n",
       "      <td>33235</td>\n",
       "      <td>63000</td>\n",
       "      <td>62100</td>\n",
       "      <td>57600</td>\n",
       "    </tr>\n",
       "    <tr>\n",
       "      <th>4</th>\n",
       "      <td>ADR0362</td>\n",
       "      <td>16:42:00</td>\n",
       "      <td>17:00:00</td>\n",
       "      <td>16:45:00</td>\n",
       "      <td>16:00:00</td>\n",
       "      <td>2017-06-19 16:42:00</td>\n",
       "      <td>2017-06-19 17:00:00</td>\n",
       "      <td>2017-06-19 16:45:00</td>\n",
       "      <td>2017-06-19 16:00:00</td>\n",
       "      <td>60120</td>\n",
       "      <td>61200</td>\n",
       "      <td>60300</td>\n",
       "      <td>57600</td>\n",
       "    </tr>\n",
       "  </tbody>\n",
       "</table>\n",
       "</div>"
      ],
      "text/plain": [
       "      user       min       max      mode      mean              min_dt  \\\n",
       "0  AAN0077  16:47:00  17:15:00  16:56:00  16:00:00 2017-06-19 16:47:00   \n",
       "1  AAW0103  16:12:00  16:30:00  16:14:00  16:00:00 2017-06-19 16:12:00   \n",
       "2  ACE0265  16:05:00  16:30:00  16:06:00  16:00:00 2017-06-19 16:05:00   \n",
       "3  ACL0394  09:13:55  17:30:00  17:15:00  16:00:00 2017-06-19 09:13:55   \n",
       "4  ADR0362  16:42:00  17:00:00  16:45:00  16:00:00 2017-06-19 16:42:00   \n",
       "\n",
       "               max_dt             mode_dt             mean_dt  min_ts  max_ts  \\\n",
       "0 2017-06-19 17:15:00 2017-06-19 16:56:00 2017-06-19 16:00:00   60420   62100   \n",
       "1 2017-06-19 16:30:00 2017-06-19 16:14:00 2017-06-19 16:00:00   58320   59400   \n",
       "2 2017-06-19 16:30:00 2017-06-19 16:06:00 2017-06-19 16:00:00   57900   59400   \n",
       "3 2017-06-19 17:30:00 2017-06-19 17:15:00 2017-06-19 16:00:00   33235   63000   \n",
       "4 2017-06-19 17:00:00 2017-06-19 16:45:00 2017-06-19 16:00:00   60120   61200   \n",
       "\n",
       "   mode_ts  mean_ts  \n",
       "0    60960    57600  \n",
       "1    58440    57600  \n",
       "2    57960    57600  \n",
       "3    62100    57600  \n",
       "4    60300    57600  "
      ]
     },
     "execution_count": 65,
     "metadata": {},
     "output_type": "execute_result"
    }
   ],
   "source": [
    "user_logoff_stats1.head()"
   ]
  },
  {
   "cell_type": "code",
   "execution_count": 66,
   "metadata": {
    "collapsed": true
   },
   "outputs": [],
   "source": [
    "# new df to store the tsec values\n",
    "user_logoff_stats_tsec = pd.DataFrame()\n",
    "\n",
    "user_logoff_stats_tsec['user'] = user_logoff_stats1['user']\n",
    "user_logoff_stats_tsec['min_ts'] = user_logoff_stats1['min_ts']\n",
    "user_logoff_stats_tsec['max_ts'] = user_logoff_stats1['max_ts']\n",
    "user_logoff_stats_tsec['mode_ts'] = user_logoff_stats1['mode_ts']\n",
    "user_logoff_stats_tsec['mean_ts'] = user_logoff_stats1['mean_ts']"
   ]
  },
  {
   "cell_type": "code",
   "execution_count": 67,
   "metadata": {
    "collapsed": false
   },
   "outputs": [
    {
     "data": {
      "text/html": [
       "<div>\n",
       "<style>\n",
       "    .dataframe thead tr:only-child th {\n",
       "        text-align: right;\n",
       "    }\n",
       "\n",
       "    .dataframe thead th {\n",
       "        text-align: left;\n",
       "    }\n",
       "\n",
       "    .dataframe tbody tr th {\n",
       "        vertical-align: top;\n",
       "    }\n",
       "</style>\n",
       "<table border=\"1\" class=\"dataframe\">\n",
       "  <thead>\n",
       "    <tr style=\"text-align: right;\">\n",
       "      <th></th>\n",
       "      <th>user</th>\n",
       "      <th>min_ts</th>\n",
       "      <th>max_ts</th>\n",
       "      <th>mode_ts</th>\n",
       "      <th>mean_ts</th>\n",
       "    </tr>\n",
       "  </thead>\n",
       "  <tbody>\n",
       "    <tr>\n",
       "      <th>0</th>\n",
       "      <td>AAN0077</td>\n",
       "      <td>60420</td>\n",
       "      <td>62100</td>\n",
       "      <td>60960</td>\n",
       "      <td>57600</td>\n",
       "    </tr>\n",
       "    <tr>\n",
       "      <th>1</th>\n",
       "      <td>AAW0103</td>\n",
       "      <td>58320</td>\n",
       "      <td>59400</td>\n",
       "      <td>58440</td>\n",
       "      <td>57600</td>\n",
       "    </tr>\n",
       "    <tr>\n",
       "      <th>2</th>\n",
       "      <td>ACE0265</td>\n",
       "      <td>57900</td>\n",
       "      <td>59400</td>\n",
       "      <td>57960</td>\n",
       "      <td>57600</td>\n",
       "    </tr>\n",
       "    <tr>\n",
       "      <th>3</th>\n",
       "      <td>ACL0394</td>\n",
       "      <td>33235</td>\n",
       "      <td>63000</td>\n",
       "      <td>62100</td>\n",
       "      <td>57600</td>\n",
       "    </tr>\n",
       "    <tr>\n",
       "      <th>4</th>\n",
       "      <td>ADR0362</td>\n",
       "      <td>60120</td>\n",
       "      <td>61200</td>\n",
       "      <td>60300</td>\n",
       "      <td>57600</td>\n",
       "    </tr>\n",
       "  </tbody>\n",
       "</table>\n",
       "</div>"
      ],
      "text/plain": [
       "      user  min_ts  max_ts  mode_ts  mean_ts\n",
       "0  AAN0077   60420   62100    60960    57600\n",
       "1  AAW0103   58320   59400    58440    57600\n",
       "2  ACE0265   57900   59400    57960    57600\n",
       "3  ACL0394   33235   63000    62100    57600\n",
       "4  ADR0362   60120   61200    60300    57600"
      ]
     },
     "execution_count": 67,
     "metadata": {},
     "output_type": "execute_result"
    }
   ],
   "source": [
    "user_logoff_stats_tsec.head()"
   ]
  },
  {
   "cell_type": "code",
   "execution_count": 68,
   "metadata": {
    "collapsed": true
   },
   "outputs": [],
   "source": [
    "# save the data\n",
    "user_logoff_stats_tsec.to_csv('./Data_Subset/Input_features/user_logoff_stats_tsec.csv', index = False)\n"
   ]
  },
  {
   "cell_type": "code",
   "execution_count": 69,
   "metadata": {
    "collapsed": true
   },
   "outputs": [],
   "source": [
    "# combined logon/logoff data for IForest input\n",
    "\n",
    "ulog_on_off_stats = pd.DataFrame()\n",
    "\n",
    "ulog_on_off_stats['user'] = user_logon_stats_tsec['user']\n",
    "\n",
    "ulog_on_off_stats['on_min_ts'] = user_logon_stats_tsec['min_ts']\n",
    "ulog_on_off_stats['on_max_ts'] = user_logon_stats_tsec['max_ts']\n",
    "ulog_on_off_stats['on_mode_ts'] = user_logon_stats_tsec['mode_ts']\n",
    "ulog_on_off_stats['on_mean_ts'] = user_logon_stats_tsec['mean_ts']\n",
    "\n",
    "ulog_on_off_stats['off_min_ts'] = user_logoff_stats_tsec['min_ts']\n",
    "ulog_on_off_stats['off_max_ts'] = user_logoff_stats_tsec['max_ts']\n",
    "ulog_on_off_stats['off_mode_ts'] = user_logoff_stats_tsec['mode_ts']\n",
    "ulog_on_off_stats['off_mean_ts'] = user_logoff_stats_tsec['mean_ts']\n"
   ]
  },
  {
   "cell_type": "code",
   "execution_count": 72,
   "metadata": {
    "collapsed": false
   },
   "outputs": [
    {
     "data": {
      "text/html": [
       "<div>\n",
       "<style>\n",
       "    .dataframe thead tr:only-child th {\n",
       "        text-align: right;\n",
       "    }\n",
       "\n",
       "    .dataframe thead th {\n",
       "        text-align: left;\n",
       "    }\n",
       "\n",
       "    .dataframe tbody tr th {\n",
       "        vertical-align: top;\n",
       "    }\n",
       "</style>\n",
       "<table border=\"1\" class=\"dataframe\">\n",
       "  <thead>\n",
       "    <tr style=\"text-align: right;\">\n",
       "      <th></th>\n",
       "      <th>user</th>\n",
       "      <th>on_min_ts</th>\n",
       "      <th>on_max_ts</th>\n",
       "      <th>on_mode_ts</th>\n",
       "      <th>on_mean_ts</th>\n",
       "      <th>off_min_ts</th>\n",
       "      <th>off_max_ts</th>\n",
       "      <th>off_mode_ts</th>\n",
       "      <th>off_mean_ts</th>\n",
       "    </tr>\n",
       "  </thead>\n",
       "  <tbody>\n",
       "    <tr>\n",
       "      <th>0</th>\n",
       "      <td>AAN0077</td>\n",
       "      <td>27900</td>\n",
       "      <td>29580</td>\n",
       "      <td>29580</td>\n",
       "      <td>25200</td>\n",
       "      <td>60420</td>\n",
       "      <td>62100</td>\n",
       "      <td>60960</td>\n",
       "      <td>57600</td>\n",
       "    </tr>\n",
       "    <tr>\n",
       "      <th>1</th>\n",
       "      <td>AAW0103</td>\n",
       "      <td>25200</td>\n",
       "      <td>26280</td>\n",
       "      <td>26100</td>\n",
       "      <td>25200</td>\n",
       "      <td>58320</td>\n",
       "      <td>59400</td>\n",
       "      <td>58440</td>\n",
       "      <td>57600</td>\n",
       "    </tr>\n",
       "    <tr>\n",
       "      <th>2</th>\n",
       "      <td>ACE0265</td>\n",
       "      <td>28800</td>\n",
       "      <td>30300</td>\n",
       "      <td>29700</td>\n",
       "      <td>28800</td>\n",
       "      <td>57900</td>\n",
       "      <td>59400</td>\n",
       "      <td>57960</td>\n",
       "      <td>57600</td>\n",
       "    </tr>\n",
       "    <tr>\n",
       "      <th>3</th>\n",
       "      <td>ACL0394</td>\n",
       "      <td>32400</td>\n",
       "      <td>60757</td>\n",
       "      <td>33300</td>\n",
       "      <td>32400</td>\n",
       "      <td>33235</td>\n",
       "      <td>63000</td>\n",
       "      <td>62100</td>\n",
       "      <td>57600</td>\n",
       "    </tr>\n",
       "    <tr>\n",
       "      <th>4</th>\n",
       "      <td>ADR0362</td>\n",
       "      <td>27000</td>\n",
       "      <td>28080</td>\n",
       "      <td>28080</td>\n",
       "      <td>25200</td>\n",
       "      <td>60120</td>\n",
       "      <td>61200</td>\n",
       "      <td>60300</td>\n",
       "      <td>57600</td>\n",
       "    </tr>\n",
       "  </tbody>\n",
       "</table>\n",
       "</div>"
      ],
      "text/plain": [
       "      user  on_min_ts  on_max_ts  on_mode_ts  on_mean_ts  off_min_ts  \\\n",
       "0  AAN0077      27900      29580       29580       25200       60420   \n",
       "1  AAW0103      25200      26280       26100       25200       58320   \n",
       "2  ACE0265      28800      30300       29700       28800       57900   \n",
       "3  ACL0394      32400      60757       33300       32400       33235   \n",
       "4  ADR0362      27000      28080       28080       25200       60120   \n",
       "\n",
       "   off_max_ts  off_mode_ts  off_mean_ts  \n",
       "0       62100        60960        57600  \n",
       "1       59400        58440        57600  \n",
       "2       59400        57960        57600  \n",
       "3       63000        62100        57600  \n",
       "4       61200        60300        57600  "
      ]
     },
     "execution_count": 72,
     "metadata": {},
     "output_type": "execute_result"
    }
   ],
   "source": [
    "ulog_on_off_stats.head()"
   ]
  },
  {
   "cell_type": "code",
   "execution_count": 73,
   "metadata": {
    "collapsed": true
   },
   "outputs": [],
   "source": [
    "# save the data\n",
    "ulog_on_off_stats.to_csv('./Data_Subset/Input_features/ulog_on_off_stats.csv', index = False)"
   ]
  },
  {
   "cell_type": "code",
   "execution_count": 80,
   "metadata": {
    "collapsed": false
   },
   "outputs": [
    {
     "data": {
      "text/plain": [
       "array([[27900, 29580, 29580, ..., 62100, 60960, 57600],\n",
       "       [25200, 26280, 26100, ..., 59400, 58440, 57600],\n",
       "       [28800, 30300, 29700, ..., 59400, 57960, 57600],\n",
       "       ..., \n",
       "       [27000, 28020, 27900, ..., 61200, 60300, 57600],\n",
       "       [29700, 52585, 30600, ..., 71100, 70200, 68400],\n",
       "       [25200, 26760, 26100, ..., 59400, 57900, 57600]])"
      ]
     },
     "execution_count": 80,
     "metadata": {},
     "output_type": "execute_result"
    }
   ],
   "source": [
    "# fit the model\n",
    "\n",
    "# input array\n",
    "ulog_on_off_stats.columns[1:]\n",
    "\n",
    "ulog_stats = ulog_on_off_stats.as_matrix(columns=ulog_on_off_stats.columns[1:])\n",
    "ulog_stats\n"
   ]
  },
  {
   "cell_type": "code",
   "execution_count": 81,
   "metadata": {
    "collapsed": false
   },
   "outputs": [
    {
     "data": {
      "text/plain": [
       "IsolationForest(bootstrap=False, contamination=0.1, max_features=1.0,\n",
       "        max_samples='auto', n_estimators=100, n_jobs=1, random_state=None,\n",
       "        verbose=0)"
      ]
     },
     "execution_count": 81,
     "metadata": {},
     "output_type": "execute_result"
    }
   ],
   "source": [
    "# fit the model contd..\n",
    "\n",
    "ulog_stats = ulog_stats #.reshape(1,-1) # need to reshape(-1,1) for single feature, (1,-1) \n",
    "                                      #for single sample or multiple features\n",
    "forest = IsolationForest()\n",
    "\n",
    "forest.fit(ulog_stats)"
   ]
  },
  {
   "cell_type": "code",
   "execution_count": 82,
   "metadata": {
    "collapsed": false,
    "scrolled": true
   },
   "outputs": [
    {
     "data": {
      "text/plain": [
       "array([ 0.05824133,  0.05692065,  0.07518662,  0.01529839,  0.10056027,\n",
       "        0.05087507,  0.04265962,  0.10629041,  0.05432064,  0.04140386,\n",
       "        0.0430556 ,  0.03612857, -0.04771475,  0.00201915,  0.01407778,\n",
       "        0.06965512, -0.0562279 ,  0.04867722, -0.03200366,  0.06277468,\n",
       "        0.0188337 ,  0.10728633, -0.00220919, -0.02580492,  0.01090464,\n",
       "        0.04021933,  0.05787506, -0.00338478,  0.04039823, -0.02468814,\n",
       "        0.02162531, -0.11432718,  0.04234088,  0.04867722,  0.08861629,\n",
       "        0.07386465,  0.05095684,  0.02598132,  0.042656  ,  0.09807391,\n",
       "        0.03646571,  0.10678032,  0.05448421,  0.02057304, -0.03939323,\n",
       "        0.08635676,  0.03260143,  0.06291462,  0.0724682 ,  0.00403469,\n",
       "        0.063508  ,  0.03976181, -0.03314996,  0.09810085,  0.05095684,\n",
       "       -0.00838449, -0.11788993,  0.02884665, -0.01879766,  0.04632841,\n",
       "        0.10263663, -0.00616013,  0.0120744 ,  0.09921192,  0.07290652,\n",
       "        0.00340998,  0.00175891,  0.06062245,  0.05484924, -0.01471172,\n",
       "        0.03266797,  0.04532547,  0.03642143, -0.10206153,  0.03646571,\n",
       "       -0.03037837,  0.10775398, -0.08468073, -0.00318446,  0.06866287,\n",
       "        0.04430167,  0.08861629, -0.03136252, -0.04679458,  0.02598132,\n",
       "        0.04449076, -0.02595675,  0.05892381,  0.06747416,  0.08257273,\n",
       "        0.04229566,  0.01447459,  0.0724682 , -0.01960655,  0.10546941,\n",
       "       -0.10187911,  0.04478967,  0.10134291,  0.07136499, -0.02816245,\n",
       "        0.00935905,  0.05065291,  0.1012407 ,  0.01577557,  0.05369986,\n",
       "        0.06423028,  0.09509987, -0.00327583, -0.00380663,  0.03636588,\n",
       "        0.01981143,  0.06856882,  0.09995615,  0.03196859,  0.09618281,\n",
       "        0.04727723,  0.09218467,  0.01420161,  0.01686418,  0.03870357,\n",
       "        0.08635676,  0.05769276,  0.04119013,  0.04450458, -0.01239953,\n",
       "        0.10503566,  0.06420737,  0.01353905,  0.04459197, -0.02186746,\n",
       "        0.09995615,  0.03681278,  0.02238717, -0.02589025,  0.07196953,\n",
       "        0.05514506,  0.03640971,  0.04618048,  0.0411475 ,  0.06443848,\n",
       "       -0.05873972,  0.10596134,  0.08727227,  0.0502714 , -0.04779465,\n",
       "       -0.03296452, -0.0109811 , -0.02935228,  0.02587569,  0.0731145 ,\n",
       "        0.07416364,  0.06281363,  0.01073176,  0.06496423, -0.01069118,\n",
       "        0.1004741 ,  0.05750762, -0.00022423,  0.04261665,  0.03251725,\n",
       "       -0.01195324,  0.07137241, -0.03613626,  0.04727723,  0.05689373,\n",
       "       -0.00506154,  0.03277109, -0.01923096, -0.00896373,  0.03098335,\n",
       "        0.05578003,  0.03849384, -0.00458565,  0.00558397,  0.10232529,\n",
       "       -0.03253968, -0.00946262, -0.04111102, -0.10554039,  0.07355984,\n",
       "       -0.02523844,  0.05691654, -0.00086085,  0.02622899,  0.05178873,\n",
       "        0.10034989,  0.09575286,  0.00747393,  0.00747393,  0.06483121,\n",
       "        0.03646571,  0.0965716 , -0.08379456, -0.01365515,  0.02726632,\n",
       "        0.00024227,  0.06764378,  0.06534572,  0.00043899, -0.00418353,\n",
       "        0.10873997,  0.08667252,  0.0531649 , -0.02664528,  0.08697203,\n",
       "        0.03936728,  0.05973037,  0.02164883,  0.04234084,  0.03327967,\n",
       "        0.08697203,  0.10103006, -0.0070471 ,  0.10434625,  0.09872348,\n",
       "        0.0991253 , -0.07022916,  0.04209734,  0.03828443,  0.10263663,\n",
       "       -0.01870969, -0.01420296, -0.00432297,  0.00858182,  0.0328176 ,\n",
       "       -0.02175934,  0.06281363,  0.06629768,  0.02452527,  0.10775398,\n",
       "       -0.00441699,  0.0163912 ])"
      ]
     },
     "execution_count": 82,
     "metadata": {},
     "output_type": "execute_result"
    }
   ],
   "source": [
    "# anomaly score\n",
    "\n",
    "ulog_ascore = forest.decision_function(ulog_stats)\n",
    "ulog_ascore"
   ]
  },
  {
   "cell_type": "code",
   "execution_count": 83,
   "metadata": {
    "collapsed": false
   },
   "outputs": [
    {
     "data": {
      "text/plain": [
       "(232,)"
      ]
     },
     "execution_count": 83,
     "metadata": {},
     "output_type": "execute_result"
    }
   ],
   "source": [
    "ulog_ascore.shape"
   ]
  },
  {
   "cell_type": "code",
   "execution_count": 95,
   "metadata": {
    "collapsed": true
   },
   "outputs": [],
   "source": [
    "# Save the result\n",
    "user_log_result = pd.DataFrame()\n",
    "\n",
    "user_log_result['user'] = ulog_on_off_stats['user']\n",
    "\n",
    "user_log_result['ascore'] = ulog_ascore\n"
   ]
  },
  {
   "cell_type": "code",
   "execution_count": 96,
   "metadata": {
    "collapsed": false
   },
   "outputs": [
    {
     "data": {
      "text/html": [
       "<div>\n",
       "<style>\n",
       "    .dataframe thead tr:only-child th {\n",
       "        text-align: right;\n",
       "    }\n",
       "\n",
       "    .dataframe thead th {\n",
       "        text-align: left;\n",
       "    }\n",
       "\n",
       "    .dataframe tbody tr th {\n",
       "        vertical-align: top;\n",
       "    }\n",
       "</style>\n",
       "<table border=\"1\" class=\"dataframe\">\n",
       "  <thead>\n",
       "    <tr style=\"text-align: right;\">\n",
       "      <th></th>\n",
       "      <th>user</th>\n",
       "      <th>ascore</th>\n",
       "    </tr>\n",
       "  </thead>\n",
       "  <tbody>\n",
       "    <tr>\n",
       "      <th>0</th>\n",
       "      <td>AAN0077</td>\n",
       "      <td>0.058241</td>\n",
       "    </tr>\n",
       "    <tr>\n",
       "      <th>1</th>\n",
       "      <td>AAW0103</td>\n",
       "      <td>0.056921</td>\n",
       "    </tr>\n",
       "    <tr>\n",
       "      <th>2</th>\n",
       "      <td>ACE0265</td>\n",
       "      <td>0.075187</td>\n",
       "    </tr>\n",
       "    <tr>\n",
       "      <th>3</th>\n",
       "      <td>ACL0394</td>\n",
       "      <td>0.015298</td>\n",
       "    </tr>\n",
       "    <tr>\n",
       "      <th>4</th>\n",
       "      <td>ADR0362</td>\n",
       "      <td>0.100560</td>\n",
       "    </tr>\n",
       "  </tbody>\n",
       "</table>\n",
       "</div>"
      ],
      "text/plain": [
       "      user    ascore\n",
       "0  AAN0077  0.058241\n",
       "1  AAW0103  0.056921\n",
       "2  ACE0265  0.075187\n",
       "3  ACL0394  0.015298\n",
       "4  ADR0362  0.100560"
      ]
     },
     "execution_count": 96,
     "metadata": {},
     "output_type": "execute_result"
    }
   ],
   "source": [
    "user_log_result.head()"
   ]
  },
  {
   "cell_type": "code",
   "execution_count": 97,
   "metadata": {
    "collapsed": true
   },
   "outputs": [],
   "source": [
    "# save the result\n",
    "\n",
    "user_log_result.to_csv('./Data_Subset/IFResult/user_log_result.csv', index = False)\n"
   ]
  },
  {
   "cell_type": "markdown",
   "metadata": {},
   "source": [
    "- #### Model with removable media (device) and file transfer stats as input features"
   ]
  },
  {
   "cell_type": "code",
   "execution_count": 98,
   "metadata": {
    "collapsed": true
   },
   "outputs": [],
   "source": [
    "# Load the data\n",
    "\n",
    "device_conn_stats = pd.read_csv('./Data_Subset/Input_features/device_conn_stats.csv')\n",
    "device_disconn_stats = pd.read_csv('./Data_Subset/Input_features/device_disconn_stats.csv')\n",
    "files_per_day_stats = pd.read_csv('./Data_Subset/Input_features/files_per_day_stats.csv')\n"
   ]
  },
  {
   "cell_type": "code",
   "execution_count": 99,
   "metadata": {
    "collapsed": false
   },
   "outputs": [
    {
     "data": {
      "text/html": [
       "<div>\n",
       "<style>\n",
       "    .dataframe thead tr:only-child th {\n",
       "        text-align: right;\n",
       "    }\n",
       "\n",
       "    .dataframe thead th {\n",
       "        text-align: left;\n",
       "    }\n",
       "\n",
       "    .dataframe tbody tr th {\n",
       "        vertical-align: top;\n",
       "    }\n",
       "</style>\n",
       "<table border=\"1\" class=\"dataframe\">\n",
       "  <thead>\n",
       "    <tr style=\"text-align: right;\">\n",
       "      <th></th>\n",
       "      <th>user</th>\n",
       "      <th>min</th>\n",
       "      <th>max</th>\n",
       "      <th>mode</th>\n",
       "      <th>mean</th>\n",
       "    </tr>\n",
       "  </thead>\n",
       "  <tbody>\n",
       "    <tr>\n",
       "      <th>0</th>\n",
       "      <td>AJQ0376</td>\n",
       "      <td>08:26:41</td>\n",
       "      <td>19:04:54</td>\n",
       "      <td>13:58:30</td>\n",
       "      <td>12:00:00</td>\n",
       "    </tr>\n",
       "    <tr>\n",
       "      <th>1</th>\n",
       "      <td>AJR0231</td>\n",
       "      <td>07:31:40</td>\n",
       "      <td>15:48:38</td>\n",
       "      <td>15:01:53</td>\n",
       "      <td>10:00:00</td>\n",
       "    </tr>\n",
       "    <tr>\n",
       "      <th>2</th>\n",
       "      <td>AOD0066</td>\n",
       "      <td>07:41:33</td>\n",
       "      <td>15:31:35</td>\n",
       "      <td>09:56:08</td>\n",
       "      <td>10:00:00</td>\n",
       "    </tr>\n",
       "    <tr>\n",
       "      <th>3</th>\n",
       "      <td>ARH0777</td>\n",
       "      <td>07:42:36</td>\n",
       "      <td>16:34:49</td>\n",
       "      <td>14:19:10</td>\n",
       "      <td>11:00:00</td>\n",
       "    </tr>\n",
       "    <tr>\n",
       "      <th>4</th>\n",
       "      <td>BCP0247</td>\n",
       "      <td>01:21:10</td>\n",
       "      <td>23:32:44</td>\n",
       "      <td>12:57:44</td>\n",
       "      <td>11:00:00</td>\n",
       "    </tr>\n",
       "  </tbody>\n",
       "</table>\n",
       "</div>"
      ],
      "text/plain": [
       "      user       min       max      mode      mean\n",
       "0  AJQ0376  08:26:41  19:04:54  13:58:30  12:00:00\n",
       "1  AJR0231  07:31:40  15:48:38  15:01:53  10:00:00\n",
       "2  AOD0066  07:41:33  15:31:35  09:56:08  10:00:00\n",
       "3  ARH0777  07:42:36  16:34:49  14:19:10  11:00:00\n",
       "4  BCP0247  01:21:10  23:32:44  12:57:44  11:00:00"
      ]
     },
     "execution_count": 99,
     "metadata": {},
     "output_type": "execute_result"
    }
   ],
   "source": [
    "device_conn_stats.head()"
   ]
  },
  {
   "cell_type": "code",
   "execution_count": 100,
   "metadata": {
    "collapsed": true
   },
   "outputs": [],
   "source": [
    "device_conn_stats1 = device_conn_stats"
   ]
  },
  {
   "cell_type": "code",
   "execution_count": 101,
   "metadata": {
    "collapsed": true
   },
   "outputs": [],
   "source": [
    "device_conn_stats1['min_dt'] = pd.to_datetime(device_conn_stats['min'])\n",
    "device_conn_stats1['max_dt'] = pd.to_datetime(device_conn_stats['max'])\n",
    "device_conn_stats1['mode_dt'] = pd.to_datetime(device_conn_stats['mode'])\n",
    "device_conn_stats1['mean_dt'] = pd.to_datetime(device_conn_stats['mean'])\n"
   ]
  },
  {
   "cell_type": "code",
   "execution_count": 102,
   "metadata": {
    "collapsed": true
   },
   "outputs": [],
   "source": [
    "# use the function to generate time in sec value\n",
    "\n",
    "con_min_ts = [dtt2timestamp(dtt) for dtt in device_conn_stats1['min_dt']]\n",
    "con_max_ts = [dtt2timestamp(dtt) for dtt in device_conn_stats1['max_dt']]\n",
    "con_mode_ts = [dtt2timestamp(dtt) for dtt in device_conn_stats1['mode_dt']]\n",
    "con_mean_ts = [dtt2timestamp(dtt) for dtt in device_conn_stats1['mean_dt']]\n",
    "\n"
   ]
  },
  {
   "cell_type": "code",
   "execution_count": 103,
   "metadata": {
    "collapsed": false
   },
   "outputs": [
    {
     "data": {
      "text/html": [
       "<div>\n",
       "<style>\n",
       "    .dataframe thead tr:only-child th {\n",
       "        text-align: right;\n",
       "    }\n",
       "\n",
       "    .dataframe thead th {\n",
       "        text-align: left;\n",
       "    }\n",
       "\n",
       "    .dataframe tbody tr th {\n",
       "        vertical-align: top;\n",
       "    }\n",
       "</style>\n",
       "<table border=\"1\" class=\"dataframe\">\n",
       "  <thead>\n",
       "    <tr style=\"text-align: right;\">\n",
       "      <th></th>\n",
       "      <th>user</th>\n",
       "      <th>min</th>\n",
       "      <th>max</th>\n",
       "      <th>mode</th>\n",
       "      <th>mean</th>\n",
       "      <th>min_dt</th>\n",
       "      <th>max_dt</th>\n",
       "      <th>mode_dt</th>\n",
       "      <th>mean_dt</th>\n",
       "    </tr>\n",
       "  </thead>\n",
       "  <tbody>\n",
       "    <tr>\n",
       "      <th>0</th>\n",
       "      <td>AJQ0376</td>\n",
       "      <td>08:26:41</td>\n",
       "      <td>19:04:54</td>\n",
       "      <td>13:58:30</td>\n",
       "      <td>12:00:00</td>\n",
       "      <td>2017-06-19 08:26:41</td>\n",
       "      <td>2017-06-19 19:04:54</td>\n",
       "      <td>2017-06-19 13:58:30</td>\n",
       "      <td>2017-06-19 12:00:00</td>\n",
       "    </tr>\n",
       "    <tr>\n",
       "      <th>1</th>\n",
       "      <td>AJR0231</td>\n",
       "      <td>07:31:40</td>\n",
       "      <td>15:48:38</td>\n",
       "      <td>15:01:53</td>\n",
       "      <td>10:00:00</td>\n",
       "      <td>2017-06-19 07:31:40</td>\n",
       "      <td>2017-06-19 15:48:38</td>\n",
       "      <td>2017-06-19 15:01:53</td>\n",
       "      <td>2017-06-19 10:00:00</td>\n",
       "    </tr>\n",
       "    <tr>\n",
       "      <th>2</th>\n",
       "      <td>AOD0066</td>\n",
       "      <td>07:41:33</td>\n",
       "      <td>15:31:35</td>\n",
       "      <td>09:56:08</td>\n",
       "      <td>10:00:00</td>\n",
       "      <td>2017-06-19 07:41:33</td>\n",
       "      <td>2017-06-19 15:31:35</td>\n",
       "      <td>2017-06-19 09:56:08</td>\n",
       "      <td>2017-06-19 10:00:00</td>\n",
       "    </tr>\n",
       "    <tr>\n",
       "      <th>3</th>\n",
       "      <td>ARH0777</td>\n",
       "      <td>07:42:36</td>\n",
       "      <td>16:34:49</td>\n",
       "      <td>14:19:10</td>\n",
       "      <td>11:00:00</td>\n",
       "      <td>2017-06-19 07:42:36</td>\n",
       "      <td>2017-06-19 16:34:49</td>\n",
       "      <td>2017-06-19 14:19:10</td>\n",
       "      <td>2017-06-19 11:00:00</td>\n",
       "    </tr>\n",
       "    <tr>\n",
       "      <th>4</th>\n",
       "      <td>BCP0247</td>\n",
       "      <td>01:21:10</td>\n",
       "      <td>23:32:44</td>\n",
       "      <td>12:57:44</td>\n",
       "      <td>11:00:00</td>\n",
       "      <td>2017-06-19 01:21:10</td>\n",
       "      <td>2017-06-19 23:32:44</td>\n",
       "      <td>2017-06-19 12:57:44</td>\n",
       "      <td>2017-06-19 11:00:00</td>\n",
       "    </tr>\n",
       "  </tbody>\n",
       "</table>\n",
       "</div>"
      ],
      "text/plain": [
       "      user       min       max      mode      mean              min_dt  \\\n",
       "0  AJQ0376  08:26:41  19:04:54  13:58:30  12:00:00 2017-06-19 08:26:41   \n",
       "1  AJR0231  07:31:40  15:48:38  15:01:53  10:00:00 2017-06-19 07:31:40   \n",
       "2  AOD0066  07:41:33  15:31:35  09:56:08  10:00:00 2017-06-19 07:41:33   \n",
       "3  ARH0777  07:42:36  16:34:49  14:19:10  11:00:00 2017-06-19 07:42:36   \n",
       "4  BCP0247  01:21:10  23:32:44  12:57:44  11:00:00 2017-06-19 01:21:10   \n",
       "\n",
       "               max_dt             mode_dt             mean_dt  \n",
       "0 2017-06-19 19:04:54 2017-06-19 13:58:30 2017-06-19 12:00:00  \n",
       "1 2017-06-19 15:48:38 2017-06-19 15:01:53 2017-06-19 10:00:00  \n",
       "2 2017-06-19 15:31:35 2017-06-19 09:56:08 2017-06-19 10:00:00  \n",
       "3 2017-06-19 16:34:49 2017-06-19 14:19:10 2017-06-19 11:00:00  \n",
       "4 2017-06-19 23:32:44 2017-06-19 12:57:44 2017-06-19 11:00:00  "
      ]
     },
     "execution_count": 103,
     "metadata": {},
     "output_type": "execute_result"
    }
   ],
   "source": [
    "device_conn_stats1.head()"
   ]
  },
  {
   "cell_type": "code",
   "execution_count": 104,
   "metadata": {
    "collapsed": true
   },
   "outputs": [],
   "source": [
    "# new dataframe \n",
    "\n",
    "device_conn_stats_tsec = pd.DataFrame()\n",
    "\n",
    "device_conn_stats_tsec['user'] = device_conn_stats1['user']\n",
    "device_conn_stats_tsec['con_min_ts'] = con_min_ts\n",
    "device_conn_stats_tsec['con_max_ts'] = con_max_ts\n",
    "device_conn_stats_tsec['con_mode_ts'] = con_mode_ts\n",
    "device_conn_stats_tsec['con_mean_ts'] = con_mean_ts\n"
   ]
  },
  {
   "cell_type": "code",
   "execution_count": 105,
   "metadata": {
    "collapsed": false
   },
   "outputs": [
    {
     "data": {
      "text/html": [
       "<div>\n",
       "<style>\n",
       "    .dataframe thead tr:only-child th {\n",
       "        text-align: right;\n",
       "    }\n",
       "\n",
       "    .dataframe thead th {\n",
       "        text-align: left;\n",
       "    }\n",
       "\n",
       "    .dataframe tbody tr th {\n",
       "        vertical-align: top;\n",
       "    }\n",
       "</style>\n",
       "<table border=\"1\" class=\"dataframe\">\n",
       "  <thead>\n",
       "    <tr style=\"text-align: right;\">\n",
       "      <th></th>\n",
       "      <th>user</th>\n",
       "      <th>con_min_ts</th>\n",
       "      <th>con_max_ts</th>\n",
       "      <th>con_mode_ts</th>\n",
       "      <th>con_mean_ts</th>\n",
       "    </tr>\n",
       "  </thead>\n",
       "  <tbody>\n",
       "    <tr>\n",
       "      <th>0</th>\n",
       "      <td>AJQ0376</td>\n",
       "      <td>30401</td>\n",
       "      <td>68694</td>\n",
       "      <td>50310</td>\n",
       "      <td>43200</td>\n",
       "    </tr>\n",
       "    <tr>\n",
       "      <th>1</th>\n",
       "      <td>AJR0231</td>\n",
       "      <td>27100</td>\n",
       "      <td>56918</td>\n",
       "      <td>54113</td>\n",
       "      <td>36000</td>\n",
       "    </tr>\n",
       "    <tr>\n",
       "      <th>2</th>\n",
       "      <td>AOD0066</td>\n",
       "      <td>27693</td>\n",
       "      <td>55895</td>\n",
       "      <td>35768</td>\n",
       "      <td>36000</td>\n",
       "    </tr>\n",
       "    <tr>\n",
       "      <th>3</th>\n",
       "      <td>ARH0777</td>\n",
       "      <td>27756</td>\n",
       "      <td>59689</td>\n",
       "      <td>51550</td>\n",
       "      <td>39600</td>\n",
       "    </tr>\n",
       "    <tr>\n",
       "      <th>4</th>\n",
       "      <td>BCP0247</td>\n",
       "      <td>4870</td>\n",
       "      <td>84764</td>\n",
       "      <td>46664</td>\n",
       "      <td>39600</td>\n",
       "    </tr>\n",
       "  </tbody>\n",
       "</table>\n",
       "</div>"
      ],
      "text/plain": [
       "      user  con_min_ts  con_max_ts  con_mode_ts  con_mean_ts\n",
       "0  AJQ0376       30401       68694        50310        43200\n",
       "1  AJR0231       27100       56918        54113        36000\n",
       "2  AOD0066       27693       55895        35768        36000\n",
       "3  ARH0777       27756       59689        51550        39600\n",
       "4  BCP0247        4870       84764        46664        39600"
      ]
     },
     "execution_count": 105,
     "metadata": {},
     "output_type": "execute_result"
    }
   ],
   "source": [
    "device_conn_stats_tsec.head()"
   ]
  },
  {
   "cell_type": "code",
   "execution_count": 106,
   "metadata": {
    "collapsed": true
   },
   "outputs": [],
   "source": [
    "# save the data\n",
    "device_conn_stats_tsec.to_csv('./Data_Subset/Input_features/device_conn_stats_tsec.csv', index = False)\n"
   ]
  },
  {
   "cell_type": "code",
   "execution_count": 107,
   "metadata": {
    "collapsed": true
   },
   "outputs": [],
   "source": [
    "device_disconn_stats1 = device_disconn_stats"
   ]
  },
  {
   "cell_type": "code",
   "execution_count": 108,
   "metadata": {
    "collapsed": true
   },
   "outputs": [],
   "source": [
    "device_disconn_stats1['min_dt'] = pd.to_datetime(device_disconn_stats['min'])\n",
    "device_disconn_stats1['max_dt'] = pd.to_datetime(device_disconn_stats['max'])\n",
    "device_disconn_stats1['mode_dt'] = pd.to_datetime(device_disconn_stats['mode'])\n",
    "device_disconn_stats1['mean_dt'] = pd.to_datetime(device_disconn_stats['mean'])"
   ]
  },
  {
   "cell_type": "code",
   "execution_count": 109,
   "metadata": {
    "collapsed": false
   },
   "outputs": [
    {
     "data": {
      "text/html": [
       "<div>\n",
       "<style>\n",
       "    .dataframe thead tr:only-child th {\n",
       "        text-align: right;\n",
       "    }\n",
       "\n",
       "    .dataframe thead th {\n",
       "        text-align: left;\n",
       "    }\n",
       "\n",
       "    .dataframe tbody tr th {\n",
       "        vertical-align: top;\n",
       "    }\n",
       "</style>\n",
       "<table border=\"1\" class=\"dataframe\">\n",
       "  <thead>\n",
       "    <tr style=\"text-align: right;\">\n",
       "      <th></th>\n",
       "      <th>user</th>\n",
       "      <th>min</th>\n",
       "      <th>max</th>\n",
       "      <th>mode</th>\n",
       "      <th>mean</th>\n",
       "      <th>min_dt</th>\n",
       "      <th>max_dt</th>\n",
       "      <th>mode_dt</th>\n",
       "      <th>mean_dt</th>\n",
       "    </tr>\n",
       "  </thead>\n",
       "  <tbody>\n",
       "    <tr>\n",
       "      <th>0</th>\n",
       "      <td>AJQ0376</td>\n",
       "      <td>08:45:27</td>\n",
       "      <td>19:38:50</td>\n",
       "      <td>15:46:32</td>\n",
       "      <td>14:00:00</td>\n",
       "      <td>2017-06-19 08:45:27</td>\n",
       "      <td>2017-06-19 19:38:50</td>\n",
       "      <td>2017-06-19 15:46:32</td>\n",
       "      <td>2017-06-19 14:00:00</td>\n",
       "    </tr>\n",
       "    <tr>\n",
       "      <th>1</th>\n",
       "      <td>AJR0231</td>\n",
       "      <td>07:41:45</td>\n",
       "      <td>15:55:37</td>\n",
       "      <td>14:40:14</td>\n",
       "      <td>11:00:00</td>\n",
       "      <td>2017-06-19 07:41:45</td>\n",
       "      <td>2017-06-19 15:55:37</td>\n",
       "      <td>2017-06-19 14:40:14</td>\n",
       "      <td>2017-06-19 11:00:00</td>\n",
       "    </tr>\n",
       "    <tr>\n",
       "      <th>2</th>\n",
       "      <td>AOD0066</td>\n",
       "      <td>08:09:15</td>\n",
       "      <td>15:43:27</td>\n",
       "      <td>12:37:43</td>\n",
       "      <td>12:00:00</td>\n",
       "      <td>2017-06-19 08:09:15</td>\n",
       "      <td>2017-06-19 15:43:27</td>\n",
       "      <td>2017-06-19 12:37:43</td>\n",
       "      <td>2017-06-19 12:00:00</td>\n",
       "    </tr>\n",
       "    <tr>\n",
       "      <th>3</th>\n",
       "      <td>ARH0777</td>\n",
       "      <td>07:46:44</td>\n",
       "      <td>16:52:13</td>\n",
       "      <td>09:19:46</td>\n",
       "      <td>12:00:00</td>\n",
       "      <td>2017-06-19 07:46:44</td>\n",
       "      <td>2017-06-19 16:52:13</td>\n",
       "      <td>2017-06-19 09:19:46</td>\n",
       "      <td>2017-06-19 12:00:00</td>\n",
       "    </tr>\n",
       "    <tr>\n",
       "      <th>4</th>\n",
       "      <td>BCP0247</td>\n",
       "      <td>00:30:41</td>\n",
       "      <td>23:49:41</td>\n",
       "      <td>12:46:37</td>\n",
       "      <td>12:00:00</td>\n",
       "      <td>2017-06-19 00:30:41</td>\n",
       "      <td>2017-06-19 23:49:41</td>\n",
       "      <td>2017-06-19 12:46:37</td>\n",
       "      <td>2017-06-19 12:00:00</td>\n",
       "    </tr>\n",
       "  </tbody>\n",
       "</table>\n",
       "</div>"
      ],
      "text/plain": [
       "      user       min       max      mode      mean              min_dt  \\\n",
       "0  AJQ0376  08:45:27  19:38:50  15:46:32  14:00:00 2017-06-19 08:45:27   \n",
       "1  AJR0231  07:41:45  15:55:37  14:40:14  11:00:00 2017-06-19 07:41:45   \n",
       "2  AOD0066  08:09:15  15:43:27  12:37:43  12:00:00 2017-06-19 08:09:15   \n",
       "3  ARH0777  07:46:44  16:52:13  09:19:46  12:00:00 2017-06-19 07:46:44   \n",
       "4  BCP0247  00:30:41  23:49:41  12:46:37  12:00:00 2017-06-19 00:30:41   \n",
       "\n",
       "               max_dt             mode_dt             mean_dt  \n",
       "0 2017-06-19 19:38:50 2017-06-19 15:46:32 2017-06-19 14:00:00  \n",
       "1 2017-06-19 15:55:37 2017-06-19 14:40:14 2017-06-19 11:00:00  \n",
       "2 2017-06-19 15:43:27 2017-06-19 12:37:43 2017-06-19 12:00:00  \n",
       "3 2017-06-19 16:52:13 2017-06-19 09:19:46 2017-06-19 12:00:00  \n",
       "4 2017-06-19 23:49:41 2017-06-19 12:46:37 2017-06-19 12:00:00  "
      ]
     },
     "execution_count": 109,
     "metadata": {},
     "output_type": "execute_result"
    }
   ],
   "source": [
    "device_disconn_stats1.head()"
   ]
  },
  {
   "cell_type": "code",
   "execution_count": 110,
   "metadata": {
    "collapsed": true
   },
   "outputs": [],
   "source": [
    "# use the function to generate time in sec value\n",
    "\n",
    "dcon_min_ts = [dtt2timestamp(dtt) for dtt in device_disconn_stats1['min_dt']]\n",
    "dcon_max_ts = [dtt2timestamp(dtt) for dtt in device_disconn_stats1['max_dt']]\n",
    "dcon_mode_ts = [dtt2timestamp(dtt) for dtt in device_disconn_stats1['mode_dt']]\n",
    "dcon_mean_ts = [dtt2timestamp(dtt) for dtt in device_disconn_stats1['mean_dt']]\n"
   ]
  },
  {
   "cell_type": "code",
   "execution_count": 111,
   "metadata": {
    "collapsed": true
   },
   "outputs": [],
   "source": [
    "# new dataframe \n",
    "\n",
    "device_disconn_stats_tsec = pd.DataFrame()\n",
    "\n",
    "device_disconn_stats_tsec['user'] = device_disconn_stats1['user']\n",
    "device_disconn_stats_tsec['dcon_min_ts'] = dcon_min_ts\n",
    "device_disconn_stats_tsec['dcon_max_ts'] = dcon_max_ts\n",
    "device_disconn_stats_tsec['dcon_mode_ts'] = dcon_mode_ts\n",
    "device_disconn_stats_tsec['dcon_mean_ts'] = dcon_mean_ts"
   ]
  },
  {
   "cell_type": "code",
   "execution_count": 112,
   "metadata": {
    "collapsed": false
   },
   "outputs": [
    {
     "data": {
      "text/html": [
       "<div>\n",
       "<style>\n",
       "    .dataframe thead tr:only-child th {\n",
       "        text-align: right;\n",
       "    }\n",
       "\n",
       "    .dataframe thead th {\n",
       "        text-align: left;\n",
       "    }\n",
       "\n",
       "    .dataframe tbody tr th {\n",
       "        vertical-align: top;\n",
       "    }\n",
       "</style>\n",
       "<table border=\"1\" class=\"dataframe\">\n",
       "  <thead>\n",
       "    <tr style=\"text-align: right;\">\n",
       "      <th></th>\n",
       "      <th>user</th>\n",
       "      <th>dcon_min_ts</th>\n",
       "      <th>dcon_max_ts</th>\n",
       "      <th>dcon_mode_ts</th>\n",
       "      <th>dcon_mean_ts</th>\n",
       "    </tr>\n",
       "  </thead>\n",
       "  <tbody>\n",
       "    <tr>\n",
       "      <th>0</th>\n",
       "      <td>AJQ0376</td>\n",
       "      <td>31527</td>\n",
       "      <td>70730</td>\n",
       "      <td>56792</td>\n",
       "      <td>50400</td>\n",
       "    </tr>\n",
       "    <tr>\n",
       "      <th>1</th>\n",
       "      <td>AJR0231</td>\n",
       "      <td>27705</td>\n",
       "      <td>57337</td>\n",
       "      <td>52814</td>\n",
       "      <td>39600</td>\n",
       "    </tr>\n",
       "    <tr>\n",
       "      <th>2</th>\n",
       "      <td>AOD0066</td>\n",
       "      <td>29355</td>\n",
       "      <td>56607</td>\n",
       "      <td>45463</td>\n",
       "      <td>43200</td>\n",
       "    </tr>\n",
       "    <tr>\n",
       "      <th>3</th>\n",
       "      <td>ARH0777</td>\n",
       "      <td>28004</td>\n",
       "      <td>60733</td>\n",
       "      <td>33586</td>\n",
       "      <td>43200</td>\n",
       "    </tr>\n",
       "    <tr>\n",
       "      <th>4</th>\n",
       "      <td>BCP0247</td>\n",
       "      <td>1841</td>\n",
       "      <td>85781</td>\n",
       "      <td>45997</td>\n",
       "      <td>43200</td>\n",
       "    </tr>\n",
       "  </tbody>\n",
       "</table>\n",
       "</div>"
      ],
      "text/plain": [
       "      user  dcon_min_ts  dcon_max_ts  dcon_mode_ts  dcon_mean_ts\n",
       "0  AJQ0376        31527        70730         56792         50400\n",
       "1  AJR0231        27705        57337         52814         39600\n",
       "2  AOD0066        29355        56607         45463         43200\n",
       "3  ARH0777        28004        60733         33586         43200\n",
       "4  BCP0247         1841        85781         45997         43200"
      ]
     },
     "execution_count": 112,
     "metadata": {},
     "output_type": "execute_result"
    }
   ],
   "source": [
    "device_disconn_stats_tsec.head()"
   ]
  },
  {
   "cell_type": "code",
   "execution_count": 113,
   "metadata": {
    "collapsed": true
   },
   "outputs": [],
   "source": [
    "# save the data\n",
    "\n",
    "device_disconn_stats_tsec.to_csv('./Data_Subset/Input_features/device_disconn_stats_tsec.csv', index = False)\n"
   ]
  },
  {
   "cell_type": "code",
   "execution_count": 115,
   "metadata": {
    "collapsed": false
   },
   "outputs": [
    {
     "data": {
      "text/html": [
       "<div>\n",
       "<style>\n",
       "    .dataframe thead tr:only-child th {\n",
       "        text-align: right;\n",
       "    }\n",
       "\n",
       "    .dataframe thead th {\n",
       "        text-align: left;\n",
       "    }\n",
       "\n",
       "    .dataframe tbody tr th {\n",
       "        vertical-align: top;\n",
       "    }\n",
       "</style>\n",
       "<table border=\"1\" class=\"dataframe\">\n",
       "  <thead>\n",
       "    <tr style=\"text-align: right;\">\n",
       "      <th></th>\n",
       "      <th>user</th>\n",
       "      <th>mode</th>\n",
       "      <th>max</th>\n",
       "    </tr>\n",
       "  </thead>\n",
       "  <tbody>\n",
       "    <tr>\n",
       "      <th>0</th>\n",
       "      <td>AJQ0376</td>\n",
       "      <td>27</td>\n",
       "      <td>27</td>\n",
       "    </tr>\n",
       "    <tr>\n",
       "      <th>1</th>\n",
       "      <td>AJR0231</td>\n",
       "      <td>5</td>\n",
       "      <td>14</td>\n",
       "    </tr>\n",
       "    <tr>\n",
       "      <th>2</th>\n",
       "      <td>AOD0066</td>\n",
       "      <td>5</td>\n",
       "      <td>12</td>\n",
       "    </tr>\n",
       "    <tr>\n",
       "      <th>3</th>\n",
       "      <td>ARH0777</td>\n",
       "      <td>2</td>\n",
       "      <td>8</td>\n",
       "    </tr>\n",
       "    <tr>\n",
       "      <th>4</th>\n",
       "      <td>BCP0247</td>\n",
       "      <td>4</td>\n",
       "      <td>11</td>\n",
       "    </tr>\n",
       "  </tbody>\n",
       "</table>\n",
       "</div>"
      ],
      "text/plain": [
       "      user  mode  max\n",
       "0  AJQ0376    27   27\n",
       "1  AJR0231     5   14\n",
       "2  AOD0066     5   12\n",
       "3  ARH0777     2    8\n",
       "4  BCP0247     4   11"
      ]
     },
     "execution_count": 115,
     "metadata": {},
     "output_type": "execute_result"
    }
   ],
   "source": [
    "files_per_day_stats.head()"
   ]
  },
  {
   "cell_type": "code",
   "execution_count": 116,
   "metadata": {
    "collapsed": true
   },
   "outputs": [],
   "source": [
    "# Combine all the removable media (device) parameters\n",
    "\n",
    "device_stats = pd.DataFrame() # new df\n",
    "\n",
    "device_stats['user'] = device_conn_stats_tsec['user']\n",
    "\n",
    "# connect stats\n",
    "device_stats['con_min_ts'] = device_conn_stats_tsec['con_min_ts']\n",
    "device_stats['con_max_ts'] = device_conn_stats_tsec['con_max_ts']\n",
    "device_stats['con_mode_ts'] = device_conn_stats_tsec['con_mode_ts']\n",
    "device_stats['con_mean_ts'] = device_conn_stats_tsec['con_mean_ts']\n",
    "\n",
    "# disconnect stats\n",
    "device_stats['dcon_min_ts'] = device_disconn_stats_tsec['dcon_min_ts']\n",
    "device_stats['dcon_max_ts'] = device_disconn_stats_tsec['dcon_max_ts']\n",
    "device_stats['dcon_mode_ts'] = device_disconn_stats_tsec['dcon_mode_ts']\n",
    "device_stats['dcon_mean_ts'] = device_disconn_stats_tsec['dcon_mean_ts']\n",
    "\n",
    "# files per day stats\n",
    "device_stats['file_mode'] = files_per_day_stats['mode']\n",
    "device_stats['file_max'] = files_per_day_stats['max']\n"
   ]
  },
  {
   "cell_type": "code",
   "execution_count": 117,
   "metadata": {
    "collapsed": false
   },
   "outputs": [
    {
     "data": {
      "text/html": [
       "<div>\n",
       "<style>\n",
       "    .dataframe thead tr:only-child th {\n",
       "        text-align: right;\n",
       "    }\n",
       "\n",
       "    .dataframe thead th {\n",
       "        text-align: left;\n",
       "    }\n",
       "\n",
       "    .dataframe tbody tr th {\n",
       "        vertical-align: top;\n",
       "    }\n",
       "</style>\n",
       "<table border=\"1\" class=\"dataframe\">\n",
       "  <thead>\n",
       "    <tr style=\"text-align: right;\">\n",
       "      <th></th>\n",
       "      <th>user</th>\n",
       "      <th>con_min_ts</th>\n",
       "      <th>con_max_ts</th>\n",
       "      <th>con_mode_ts</th>\n",
       "      <th>con_mean_ts</th>\n",
       "      <th>dcon_min_ts</th>\n",
       "      <th>dcon_max_ts</th>\n",
       "      <th>dcon_mode_ts</th>\n",
       "      <th>dcon_mean_ts</th>\n",
       "      <th>file_mode</th>\n",
       "      <th>file_max</th>\n",
       "    </tr>\n",
       "  </thead>\n",
       "  <tbody>\n",
       "    <tr>\n",
       "      <th>0</th>\n",
       "      <td>AJQ0376</td>\n",
       "      <td>30401</td>\n",
       "      <td>68694</td>\n",
       "      <td>50310</td>\n",
       "      <td>43200</td>\n",
       "      <td>31527</td>\n",
       "      <td>70730</td>\n",
       "      <td>56792</td>\n",
       "      <td>50400</td>\n",
       "      <td>27</td>\n",
       "      <td>27</td>\n",
       "    </tr>\n",
       "    <tr>\n",
       "      <th>1</th>\n",
       "      <td>AJR0231</td>\n",
       "      <td>27100</td>\n",
       "      <td>56918</td>\n",
       "      <td>54113</td>\n",
       "      <td>36000</td>\n",
       "      <td>27705</td>\n",
       "      <td>57337</td>\n",
       "      <td>52814</td>\n",
       "      <td>39600</td>\n",
       "      <td>5</td>\n",
       "      <td>14</td>\n",
       "    </tr>\n",
       "    <tr>\n",
       "      <th>2</th>\n",
       "      <td>AOD0066</td>\n",
       "      <td>27693</td>\n",
       "      <td>55895</td>\n",
       "      <td>35768</td>\n",
       "      <td>36000</td>\n",
       "      <td>29355</td>\n",
       "      <td>56607</td>\n",
       "      <td>45463</td>\n",
       "      <td>43200</td>\n",
       "      <td>5</td>\n",
       "      <td>12</td>\n",
       "    </tr>\n",
       "    <tr>\n",
       "      <th>3</th>\n",
       "      <td>ARH0777</td>\n",
       "      <td>27756</td>\n",
       "      <td>59689</td>\n",
       "      <td>51550</td>\n",
       "      <td>39600</td>\n",
       "      <td>28004</td>\n",
       "      <td>60733</td>\n",
       "      <td>33586</td>\n",
       "      <td>43200</td>\n",
       "      <td>2</td>\n",
       "      <td>8</td>\n",
       "    </tr>\n",
       "    <tr>\n",
       "      <th>4</th>\n",
       "      <td>BCP0247</td>\n",
       "      <td>4870</td>\n",
       "      <td>84764</td>\n",
       "      <td>46664</td>\n",
       "      <td>39600</td>\n",
       "      <td>1841</td>\n",
       "      <td>85781</td>\n",
       "      <td>45997</td>\n",
       "      <td>43200</td>\n",
       "      <td>4</td>\n",
       "      <td>11</td>\n",
       "    </tr>\n",
       "  </tbody>\n",
       "</table>\n",
       "</div>"
      ],
      "text/plain": [
       "      user  con_min_ts  con_max_ts  con_mode_ts  con_mean_ts  dcon_min_ts  \\\n",
       "0  AJQ0376       30401       68694        50310        43200        31527   \n",
       "1  AJR0231       27100       56918        54113        36000        27705   \n",
       "2  AOD0066       27693       55895        35768        36000        29355   \n",
       "3  ARH0777       27756       59689        51550        39600        28004   \n",
       "4  BCP0247        4870       84764        46664        39600         1841   \n",
       "\n",
       "   dcon_max_ts  dcon_mode_ts  dcon_mean_ts  file_mode  file_max  \n",
       "0        70730         56792         50400         27        27  \n",
       "1        57337         52814         39600          5        14  \n",
       "2        56607         45463         43200          5        12  \n",
       "3        60733         33586         43200          2         8  \n",
       "4        85781         45997         43200          4        11  "
      ]
     },
     "execution_count": 117,
     "metadata": {},
     "output_type": "execute_result"
    }
   ],
   "source": [
    "device_stats.head()"
   ]
  },
  {
   "cell_type": "code",
   "execution_count": 118,
   "metadata": {
    "collapsed": true
   },
   "outputs": [],
   "source": [
    "# save the data\n",
    "device_stats.to_csv('./Data_Subset/Input_features/device_stats.csv', index = False)\n"
   ]
  },
  {
   "cell_type": "markdown",
   "metadata": {},
   "source": [
    "- Fitting the model"
   ]
  },
  {
   "cell_type": "code",
   "execution_count": 137,
   "metadata": {
    "collapsed": false,
    "scrolled": true
   },
   "outputs": [
    {
     "data": {
      "text/plain": [
       "array([[30401, 68694, 50310, 43200, 31527, 70730, 56792, 50400,    27,\n",
       "           27],\n",
       "       [27100, 56918, 54113, 36000, 27705, 57337, 52814, 39600,     5,\n",
       "           14],\n",
       "       [27693, 55895, 35768, 36000, 29355, 56607, 45463, 43200,     5,\n",
       "           12],\n",
       "       [27756, 59689, 51550, 39600, 28004, 60733, 33586, 43200,     2,\n",
       "            8],\n",
       "       [ 4870, 84764, 46664, 39600,  1841, 85781, 45997, 43200,     4,\n",
       "           11],\n",
       "       [33007, 61926, 35672, 39600, 35304, 62393, 59056, 46800,     4,\n",
       "           13],\n",
       "       [ 1185, 76882, 56810, 43200,  3000, 68624, 57911, 54000,     2,\n",
       "           13],\n",
       "       [28882, 59022, 50806, 39600, 29083, 59266, 49299, 39600,    27,\n",
       "           27],\n",
       "       [16018, 83814, 33156, 39600, 14887, 60913, 51885, 43200,     2,\n",
       "           11],\n",
       "       [29154, 57723, 31389, 39600, 31314, 59062, 41058, 43200,     1,\n",
       "           11],\n",
       "       [27480, 55931, 48979, 36000, 28088, 57315, 56067, 39600,     2,\n",
       "            9],\n",
       "       [28096, 61247, 45887, 39600, 28544, 61749, 35400, 43200,    20,\n",
       "           27],\n",
       "       [  514, 86209, 55868, 39600,  1536, 86008, 52136, 43200,    27,\n",
       "           37],\n",
       "       [27583, 62390, 56602, 39600, 28194, 64678, 32141, 46800,     1,\n",
       "           11],\n",
       "       [25388, 57909, 45837, 36000, 27331, 58425, 56777, 43200,     1,\n",
       "            7],\n",
       "       [28601, 60960, 52864, 39600, 29402, 61799, 59057, 43200,     2,\n",
       "            8],\n",
       "       [27268, 64199, 41214, 43200, 27377, 64641, 61733, 43200,    27,\n",
       "           27],\n",
       "       [25458, 59011, 50670, 36000, 25530, 59226, 43354, 39600,     2,\n",
       "            8],\n",
       "       [28996, 58930, 38261, 39600, 29310, 59274, 47501, 39600,    27,\n",
       "           27],\n",
       "       [27294, 63808, 40585, 39600, 28125, 64080, 64023, 46800,    10,\n",
       "           20],\n",
       "       [28888, 59170, 37948, 39600, 29455, 59331, 40208, 39600,    27,\n",
       "           27],\n",
       "       [32768, 61023, 46550, 39600, 34007, 62895, 47524, 46800,     5,\n",
       "           18],\n",
       "       [27448, 56296, 45165, 36000, 27945, 57353, 41297, 39600,     2,\n",
       "           11],\n",
       "       [28904, 57744, 51557, 39600, 30797, 59002, 34009, 43200,     5,\n",
       "            8],\n",
       "       [30800, 63861, 45138, 43200, 31862, 64434, 58126, 46800,     1,\n",
       "           11],\n",
       "       [28707, 60214, 29851, 39600, 29043, 61347, 42776, 43200,     4,\n",
       "           13],\n",
       "       [31120, 63947, 53014, 43200, 31281, 64639, 36317, 46800,     6,\n",
       "           16],\n",
       "       [28145, 61367, 50558, 39600, 28766, 61951, 61017, 43200,     9,\n",
       "           19],\n",
       "       [27505, 59431, 36089, 39600, 28395, 60885, 59712, 43200,     5,\n",
       "           13],\n",
       "       [    1, 85820, 49348, 39600,   222, 85985, 59540, 43200,     2,\n",
       "            9],\n",
       "       [25577, 57778, 33113, 36000, 27234, 59018, 57817, 43200,    27,\n",
       "           27],\n",
       "       [27992, 69046, 59835, 43200, 28036, 69122, 64472, 46800,    27,\n",
       "           27],\n",
       "       [ 1523, 86168, 39280, 39600,   995, 85939, 60445, 43200,     2,\n",
       "           13],\n",
       "       [30859, 63668, 59326, 43200, 31014, 64510, 38992, 46800,     5,\n",
       "           13],\n",
       "       [32523, 61496, 49897, 43200, 35051, 62334, 58568, 46800,     6,\n",
       "           13],\n",
       "       [ 2813, 83526, 49405, 39600,  4385, 81676, 32008, 43200,     4,\n",
       "           12],\n",
       "       [29831, 67057, 34748, 43200, 30497, 67282, 61926, 46800,     7,\n",
       "           16],\n",
       "       [ 8753, 83989, 48546, 43200,   991, 86028, 58521, 46800,    27,\n",
       "           29],\n",
       "       [27368, 63300, 41366, 36000, 31246, 63993, 54266, 46800,     1,\n",
       "            8],\n",
       "       [25295, 58612, 53098, 36000, 25729, 59292, 34737, 39600,    27,\n",
       "           27],\n",
       "       [   34, 85234, 30191, 36000,   370, 85880, 48437, 39600,     8,\n",
       "           17],\n",
       "       [27948, 75987, 45642, 39600, 28567, 85099, 57089, 46800,     2,\n",
       "            8],\n",
       "       [27379, 63609, 47171, 39600, 27872, 64678, 37120, 43200,    10,\n",
       "           21],\n",
       "       [25903, 58493, 44568, 36000, 27125, 59301, 54791, 43200,     2,\n",
       "           11],\n",
       "       [26210, 57637, 36196, 36000, 27069, 58691, 56181, 43200,     5,\n",
       "           12],\n",
       "       [25384, 59046, 41523, 39600, 25699, 59328, 57918, 39600,    27,\n",
       "           27],\n",
       "       [30142, 69372, 52348, 46800, 30778, 70798, 69895, 50400,     4,\n",
       "           14]])"
      ]
     },
     "execution_count": 137,
     "metadata": {},
     "output_type": "execute_result"
    }
   ],
   "source": [
    "# input array\n",
    "device_stats.columns[1:]\n",
    "\n",
    "device_params = device_stats.as_matrix(columns = device_stats.columns[1:])\n",
    "device_params"
   ]
  },
  {
   "cell_type": "code",
   "execution_count": 138,
   "metadata": {
    "collapsed": false
   },
   "outputs": [
    {
     "data": {
      "text/plain": [
       "IsolationForest(bootstrap=False, contamination=0.1, max_features=1.0,\n",
       "        max_samples='auto', n_estimators=100, n_jobs=1, random_state=None,\n",
       "        verbose=0)"
      ]
     },
     "execution_count": 138,
     "metadata": {},
     "output_type": "execute_result"
    }
   ],
   "source": [
    "# fit the model\n",
    "device_params = device_params #.reshape(-1,1)\n",
    "forest = IsolationForest()\n",
    "\n",
    "forest.fit(device_params)\n"
   ]
  },
  {
   "cell_type": "code",
   "execution_count": 139,
   "metadata": {
    "collapsed": false,
    "scrolled": true
   },
   "outputs": [
    {
     "data": {
      "text/plain": [
       "array([ 0.01061819,  0.07490963,  0.0746807 ,  0.08874951,  0.02714255,\n",
       "        0.04623366, -0.07313351,  0.06772047, -0.00146748,  0.06214182,\n",
       "        0.07529703,  0.07239563, -0.05354237,  0.06691815,  0.0901711 ,\n",
       "        0.09666711,  0.0547618 ,  0.05222577,  0.06583506,  0.05011917,\n",
       "        0.04667266,  0.0503641 ,  0.08036392,  0.07615057,  0.08080458,\n",
       "        0.08049453,  0.05546656,  0.08973955,  0.1145217 ,  0.02167804,\n",
       "        0.04050933,  0.00563107,  0.02007753,  0.06111717,  0.05427255,\n",
       "       -0.00731932,  0.04795068, -0.05184947,  0.06558586,  0.02208341,\n",
       "       -0.06089685,  0.04443151,  0.07105566,  0.11431883,  0.10250222,\n",
       "        0.05825164, -0.03805721])"
      ]
     },
     "execution_count": 139,
     "metadata": {},
     "output_type": "execute_result"
    }
   ],
   "source": [
    "# anomaly score\n",
    "\n",
    "dev_file_ascore = forest.decision_function(device_params)\n",
    "dev_file_ascore"
   ]
  },
  {
   "cell_type": "code",
   "execution_count": 140,
   "metadata": {
    "collapsed": false
   },
   "outputs": [
    {
     "data": {
      "text/plain": [
       "(47,)"
      ]
     },
     "execution_count": 140,
     "metadata": {},
     "output_type": "execute_result"
    }
   ],
   "source": [
    "dev_file_ascore.shape"
   ]
  },
  {
   "cell_type": "code",
   "execution_count": 132,
   "metadata": {
    "collapsed": false
   },
   "outputs": [
    {
     "data": {
      "text/plain": [
       "(47, 11)"
      ]
     },
     "execution_count": 132,
     "metadata": {},
     "output_type": "execute_result"
    }
   ],
   "source": [
    "device_stats.shape"
   ]
  },
  {
   "cell_type": "code",
   "execution_count": 142,
   "metadata": {
    "collapsed": true
   },
   "outputs": [],
   "source": [
    "# Save the result\n",
    "device_file_result = pd.DataFrame()\n",
    "\n",
    "device_file_result['user'] = device_stats['user']\n",
    "device_file_result['ascore'] = dev_file_ascore\n"
   ]
  },
  {
   "cell_type": "code",
   "execution_count": 143,
   "metadata": {
    "collapsed": false
   },
   "outputs": [
    {
     "data": {
      "text/html": [
       "<div>\n",
       "<style>\n",
       "    .dataframe thead tr:only-child th {\n",
       "        text-align: right;\n",
       "    }\n",
       "\n",
       "    .dataframe thead th {\n",
       "        text-align: left;\n",
       "    }\n",
       "\n",
       "    .dataframe tbody tr th {\n",
       "        vertical-align: top;\n",
       "    }\n",
       "</style>\n",
       "<table border=\"1\" class=\"dataframe\">\n",
       "  <thead>\n",
       "    <tr style=\"text-align: right;\">\n",
       "      <th></th>\n",
       "      <th>user</th>\n",
       "      <th>ascore</th>\n",
       "    </tr>\n",
       "  </thead>\n",
       "  <tbody>\n",
       "    <tr>\n",
       "      <th>0</th>\n",
       "      <td>AJQ0376</td>\n",
       "      <td>0.010618</td>\n",
       "    </tr>\n",
       "    <tr>\n",
       "      <th>1</th>\n",
       "      <td>AJR0231</td>\n",
       "      <td>0.074910</td>\n",
       "    </tr>\n",
       "    <tr>\n",
       "      <th>2</th>\n",
       "      <td>AOD0066</td>\n",
       "      <td>0.074681</td>\n",
       "    </tr>\n",
       "    <tr>\n",
       "      <th>3</th>\n",
       "      <td>ARH0777</td>\n",
       "      <td>0.088750</td>\n",
       "    </tr>\n",
       "    <tr>\n",
       "      <th>4</th>\n",
       "      <td>BCP0247</td>\n",
       "      <td>0.027143</td>\n",
       "    </tr>\n",
       "  </tbody>\n",
       "</table>\n",
       "</div>"
      ],
      "text/plain": [
       "      user    ascore\n",
       "0  AJQ0376  0.010618\n",
       "1  AJR0231  0.074910\n",
       "2  AOD0066  0.074681\n",
       "3  ARH0777  0.088750\n",
       "4  BCP0247  0.027143"
      ]
     },
     "execution_count": 143,
     "metadata": {},
     "output_type": "execute_result"
    }
   ],
   "source": [
    "device_file_result.head()"
   ]
  },
  {
   "cell_type": "code",
   "execution_count": 144,
   "metadata": {
    "collapsed": true
   },
   "outputs": [],
   "source": [
    "# save the result\n",
    "device_file_result.to_csv('./Data_Subset/IFResult/device_file_result.csv', index = False)"
   ]
  },
  {
   "cell_type": "markdown",
   "metadata": {},
   "source": [
    "- #### Model with Psychometric data"
   ]
  },
  {
   "cell_type": "code",
   "execution_count": 145,
   "metadata": {
    "collapsed": true
   },
   "outputs": [],
   "source": [
    "psychometric = pd.read_csv('./Data_Subset/fu2_psychometric.csv')"
   ]
  },
  {
   "cell_type": "code",
   "execution_count": 146,
   "metadata": {
    "collapsed": false
   },
   "outputs": [
    {
     "data": {
      "text/html": [
       "<div>\n",
       "<style>\n",
       "    .dataframe thead tr:only-child th {\n",
       "        text-align: right;\n",
       "    }\n",
       "\n",
       "    .dataframe thead th {\n",
       "        text-align: left;\n",
       "    }\n",
       "\n",
       "    .dataframe tbody tr th {\n",
       "        vertical-align: top;\n",
       "    }\n",
       "</style>\n",
       "<table border=\"1\" class=\"dataframe\">\n",
       "  <thead>\n",
       "    <tr style=\"text-align: right;\">\n",
       "      <th></th>\n",
       "      <th>employee_name</th>\n",
       "      <th>user_id</th>\n",
       "      <th>O</th>\n",
       "      <th>C</th>\n",
       "      <th>E</th>\n",
       "      <th>A</th>\n",
       "      <th>N</th>\n",
       "    </tr>\n",
       "  </thead>\n",
       "  <tbody>\n",
       "    <tr>\n",
       "      <th>0</th>\n",
       "      <td>Hayden Brennan Browning</td>\n",
       "      <td>HBB0090</td>\n",
       "      <td>41</td>\n",
       "      <td>18</td>\n",
       "      <td>18</td>\n",
       "      <td>44</td>\n",
       "      <td>36</td>\n",
       "    </tr>\n",
       "    <tr>\n",
       "      <th>1</th>\n",
       "      <td>Quin Colette Fuller</td>\n",
       "      <td>QCF0390</td>\n",
       "      <td>42</td>\n",
       "      <td>50</td>\n",
       "      <td>22</td>\n",
       "      <td>20</td>\n",
       "      <td>26</td>\n",
       "    </tr>\n",
       "    <tr>\n",
       "      <th>2</th>\n",
       "      <td>Jermaine Dominic Dorsey</td>\n",
       "      <td>JDD0087</td>\n",
       "      <td>41</td>\n",
       "      <td>42</td>\n",
       "      <td>19</td>\n",
       "      <td>20</td>\n",
       "      <td>29</td>\n",
       "    </tr>\n",
       "    <tr>\n",
       "      <th>3</th>\n",
       "      <td>Allistair Akeem Nichols</td>\n",
       "      <td>AAN0077</td>\n",
       "      <td>42</td>\n",
       "      <td>15</td>\n",
       "      <td>32</td>\n",
       "      <td>22</td>\n",
       "      <td>29</td>\n",
       "    </tr>\n",
       "    <tr>\n",
       "      <th>4</th>\n",
       "      <td>Galvin Jordan Parsons</td>\n",
       "      <td>GJP0098</td>\n",
       "      <td>42</td>\n",
       "      <td>44</td>\n",
       "      <td>39</td>\n",
       "      <td>31</td>\n",
       "      <td>30</td>\n",
       "    </tr>\n",
       "  </tbody>\n",
       "</table>\n",
       "</div>"
      ],
      "text/plain": [
       "             employee_name  user_id   O   C   E   A   N\n",
       "0  Hayden Brennan Browning  HBB0090  41  18  18  44  36\n",
       "1      Quin Colette Fuller  QCF0390  42  50  22  20  26\n",
       "2  Jermaine Dominic Dorsey  JDD0087  41  42  19  20  29\n",
       "3  Allistair Akeem Nichols  AAN0077  42  15  32  22  29\n",
       "4    Galvin Jordan Parsons  GJP0098  42  44  39  31  30"
      ]
     },
     "execution_count": 146,
     "metadata": {},
     "output_type": "execute_result"
    }
   ],
   "source": [
    "psychometric.head()"
   ]
  },
  {
   "cell_type": "code",
   "execution_count": 148,
   "metadata": {
    "collapsed": false
   },
   "outputs": [
    {
     "data": {
      "text/plain": [
       "(232, 7)"
      ]
     },
     "execution_count": 148,
     "metadata": {},
     "output_type": "execute_result"
    }
   ],
   "source": [
    "psychometric.shape"
   ]
  },
  {
   "cell_type": "code",
   "execution_count": 151,
   "metadata": {
    "collapsed": false
   },
   "outputs": [
    {
     "data": {
      "text/plain": [
       "array([[41, 18, 18, 44, 36],\n",
       "       [42, 50, 22, 20, 26],\n",
       "       [41, 42, 19, 20, 29],\n",
       "       ..., \n",
       "       [35, 40, 45, 39, 31],\n",
       "       [16, 14, 37, 43, 23],\n",
       "       [22, 17, 39, 34, 18]])"
      ]
     },
     "execution_count": 151,
     "metadata": {},
     "output_type": "execute_result"
    }
   ],
   "source": [
    "# fit the model\n",
    "\n",
    "# input array\n",
    "psychometric_params = psychometric.as_matrix(columns = psychometric.columns[2:])\n",
    "psychometric_params\n"
   ]
  },
  {
   "cell_type": "code",
   "execution_count": 152,
   "metadata": {
    "collapsed": false
   },
   "outputs": [
    {
     "data": {
      "text/plain": [
       "IsolationForest(bootstrap=False, contamination=0.1, max_features=1.0,\n",
       "        max_samples='auto', n_estimators=100, n_jobs=1, random_state=None,\n",
       "        verbose=0)"
      ]
     },
     "execution_count": 152,
     "metadata": {},
     "output_type": "execute_result"
    }
   ],
   "source": [
    "#device_params = device_params\n",
    "forest = IsolationForest()\n",
    "\n",
    "forest.fit(psychometric_params)"
   ]
  },
  {
   "cell_type": "code",
   "execution_count": 154,
   "metadata": {
    "collapsed": false,
    "scrolled": true
   },
   "outputs": [
    {
     "data": {
      "text/plain": [
       "array([ 0.03035229,  0.0334336 ,  0.09724311,  0.06614153,  0.06187728,\n",
       "        0.02497976,  0.06341521,  0.04461608,  0.03568697,  0.05787885,\n",
       "       -0.00202239,  0.04886835, -0.04051539,  0.0502179 ,  0.04461547,\n",
       "        0.08024991,  0.08669555,  0.04872239,  0.05940291,  0.00273841,\n",
       "       -0.02350418,  0.05968872,  0.02115387,  0.05133515,  0.08456098,\n",
       "        0.07822694,  0.04601829,  0.03632484,  0.05751695,  0.0755021 ,\n",
       "        0.04582202,  0.06914013, -0.00888816,  0.07296075,  0.05648154,\n",
       "        0.04919691,  0.05099657, -0.01153901,  0.06044029,  0.04032208,\n",
       "        0.01233749,  0.07141743,  0.05050764,  0.05012355,  0.07396945,\n",
       "        0.04005369,  0.00531456,  0.0725553 ,  0.06095211,  0.07304976,\n",
       "        0.08463581,  0.01355371,  0.02516697,  0.00172579,  0.02862381,\n",
       "        0.04475177,  0.06383215,  0.06098771,  0.04902803,  0.06039   ,\n",
       "        0.03002834,  0.06915628, -0.00551379,  0.02448589,  0.05171851,\n",
       "        0.0505288 , -0.00720233, -0.03005982, -0.00582019,  0.04252235,\n",
       "        0.05540798,  0.06322314,  0.08329915,  0.03663212,  0.05258027,\n",
       "        0.04137663,  0.0688642 ,  0.05673684,  0.06966516,  0.01902646,\n",
       "        0.01254046,  0.02069979,  0.01117925,  0.07065208,  0.061847  ,\n",
       "        0.05165196,  0.02442445,  0.04555449,  0.03424283, -0.00638803,\n",
       "        0.03462589,  0.0549586 ,  0.00365393,  0.07303409, -0.01248507,\n",
       "        0.00945807,  0.01844951,  0.01657439,  0.0680056 ,  0.04757245,\n",
       "        0.05263132,  0.01741718, -0.02089899,  0.05345051, -0.01995466,\n",
       "        0.00594162,  0.06393658, -0.00349286,  0.03496432, -0.0141466 ,\n",
       "        0.06505499,  0.01731697,  0.03377705,  0.04194502,  0.03545478,\n",
       "        0.02834223, -0.04574774,  0.07993147,  0.01351394,  0.00802239,\n",
       "       -0.02013787, -0.00774648, -0.05067431,  0.03338695,  0.04104513,\n",
       "        0.06496081,  0.0373113 ,  0.08597636,  0.01129939, -0.00117135,\n",
       "       -0.06221255, -0.00794989,  0.05915431,  0.05285065,  0.02330093,\n",
       "        0.03354144,  0.04017745,  0.00479237,  0.07030522,  0.06412602,\n",
       "        0.00629624,  0.06067287,  0.06169056,  0.07049398, -0.06379446,\n",
       "        0.04909577,  0.0674693 ,  0.04759237, -0.02805893,  0.06848166,\n",
       "        0.03066469,  0.06070678,  0.03926345,  0.08371659,  0.01834915,\n",
       "        0.03155707,  0.01800062,  0.07395929,  0.07143409,  0.09082852,\n",
       "        0.04777496,  0.04627526,  0.06575057, -0.05829563,  0.00398964,\n",
       "       -0.02985831,  0.00605424,  0.06107817,  0.00495267,  0.04813732,\n",
       "        0.05734508,  0.03887582,  0.02875113, -0.02428128, -0.01022062,\n",
       "        0.06907325,  0.06553747,  0.08904075,  0.08615199,  0.07120841,\n",
       "        0.06193643, -0.02070011,  0.01972201,  0.03896477,  0.04592872,\n",
       "        0.0509381 ,  0.03310786, -0.00036058,  0.02854533,  0.04010302,\n",
       "        0.07855577,  0.05559908,  0.04668358,  0.04875485,  0.05121796,\n",
       "        0.08178485, -0.01457339,  0.02717812,  0.05963031,  0.0006501 ,\n",
       "        0.03871466,  0.04688665, -0.04481483,  0.04587523,  0.05172657,\n",
       "        0.03607219,  0.04123362,  0.04576003,  0.05625803,  0.03709611,\n",
       "        0.06529671,  0.05015489, -0.00894732,  0.06875286,  0.04712237,\n",
       "        0.01433616, -0.05294141,  0.04917342,  0.01167795, -0.00372443,\n",
       "        0.02721093,  0.06076252,  0.05416262,  0.0460199 ,  0.04133146,\n",
       "        0.03442367,  0.0638163 ,  0.02660335,  0.04835012,  0.04219961,\n",
       "       -0.02175245, -0.01973534])"
      ]
     },
     "execution_count": 154,
     "metadata": {},
     "output_type": "execute_result"
    }
   ],
   "source": [
    "# anomaly score\n",
    "psych_ascore = forest.decision_function(psychometric_params)\n",
    "psych_ascore\n"
   ]
  },
  {
   "cell_type": "code",
   "execution_count": 155,
   "metadata": {
    "collapsed": false
   },
   "outputs": [
    {
     "data": {
      "text/plain": [
       "(232,)"
      ]
     },
     "execution_count": 155,
     "metadata": {},
     "output_type": "execute_result"
    }
   ],
   "source": [
    "psych_ascore.shape"
   ]
  },
  {
   "cell_type": "code",
   "execution_count": 156,
   "metadata": {
    "collapsed": true
   },
   "outputs": [],
   "source": [
    "# save the result\n",
    "psychometric_result = pd.DataFrame()\n",
    "\n",
    "psychometric_result['user'] = psychometric['user_id']\n",
    "psychometric_result['ascore'] = psych_ascore\n"
   ]
  },
  {
   "cell_type": "code",
   "execution_count": 157,
   "metadata": {
    "collapsed": false
   },
   "outputs": [
    {
     "data": {
      "text/html": [
       "<div>\n",
       "<style>\n",
       "    .dataframe thead tr:only-child th {\n",
       "        text-align: right;\n",
       "    }\n",
       "\n",
       "    .dataframe thead th {\n",
       "        text-align: left;\n",
       "    }\n",
       "\n",
       "    .dataframe tbody tr th {\n",
       "        vertical-align: top;\n",
       "    }\n",
       "</style>\n",
       "<table border=\"1\" class=\"dataframe\">\n",
       "  <thead>\n",
       "    <tr style=\"text-align: right;\">\n",
       "      <th></th>\n",
       "      <th>user</th>\n",
       "      <th>ascore</th>\n",
       "    </tr>\n",
       "  </thead>\n",
       "  <tbody>\n",
       "    <tr>\n",
       "      <th>0</th>\n",
       "      <td>HBB0090</td>\n",
       "      <td>0.030352</td>\n",
       "    </tr>\n",
       "    <tr>\n",
       "      <th>1</th>\n",
       "      <td>QCF0390</td>\n",
       "      <td>0.033434</td>\n",
       "    </tr>\n",
       "    <tr>\n",
       "      <th>2</th>\n",
       "      <td>JDD0087</td>\n",
       "      <td>0.097243</td>\n",
       "    </tr>\n",
       "    <tr>\n",
       "      <th>3</th>\n",
       "      <td>AAN0077</td>\n",
       "      <td>0.066142</td>\n",
       "    </tr>\n",
       "    <tr>\n",
       "      <th>4</th>\n",
       "      <td>GJP0098</td>\n",
       "      <td>0.061877</td>\n",
       "    </tr>\n",
       "  </tbody>\n",
       "</table>\n",
       "</div>"
      ],
      "text/plain": [
       "      user    ascore\n",
       "0  HBB0090  0.030352\n",
       "1  QCF0390  0.033434\n",
       "2  JDD0087  0.097243\n",
       "3  AAN0077  0.066142\n",
       "4  GJP0098  0.061877"
      ]
     },
     "execution_count": 157,
     "metadata": {},
     "output_type": "execute_result"
    }
   ],
   "source": [
    "psychometric_result.head()"
   ]
  },
  {
   "cell_type": "code",
   "execution_count": 158,
   "metadata": {
    "collapsed": true
   },
   "outputs": [],
   "source": [
    "psychometric_result.to_csv('./Data_Subset/IFResult/psychometric_result.csv', index = False)"
   ]
  },
  {
   "cell_type": "markdown",
   "metadata": {},
   "source": [
    "- #### Model with all the input features combined (Graph, Logon/Logoff, Device and File transfer, and Psychometric data)"
   ]
  },
  {
   "cell_type": "code",
   "execution_count": 177,
   "metadata": {
    "collapsed": false
   },
   "outputs": [
    {
     "data": {
      "text/html": [
       "<div>\n",
       "<style>\n",
       "    .dataframe thead tr:only-child th {\n",
       "        text-align: right;\n",
       "    }\n",
       "\n",
       "    .dataframe thead th {\n",
       "        text-align: left;\n",
       "    }\n",
       "\n",
       "    .dataframe tbody tr th {\n",
       "        vertical-align: top;\n",
       "    }\n",
       "</style>\n",
       "<table border=\"1\" class=\"dataframe\">\n",
       "  <thead>\n",
       "    <tr style=\"text-align: right;\">\n",
       "      <th></th>\n",
       "      <th>user</th>\n",
       "      <th>on_min_ts</th>\n",
       "      <th>on_max_ts</th>\n",
       "      <th>on_mode_ts</th>\n",
       "      <th>on_mean_ts</th>\n",
       "      <th>off_min_ts</th>\n",
       "      <th>off_max_ts</th>\n",
       "      <th>off_mode_ts</th>\n",
       "      <th>off_mean_ts</th>\n",
       "      <th>pc_count</th>\n",
       "    </tr>\n",
       "  </thead>\n",
       "  <tbody>\n",
       "    <tr>\n",
       "      <th>0</th>\n",
       "      <td>AAN0077</td>\n",
       "      <td>27900</td>\n",
       "      <td>29580</td>\n",
       "      <td>29580</td>\n",
       "      <td>25200</td>\n",
       "      <td>60420</td>\n",
       "      <td>62100</td>\n",
       "      <td>60960</td>\n",
       "      <td>57600</td>\n",
       "      <td>1</td>\n",
       "    </tr>\n",
       "    <tr>\n",
       "      <th>1</th>\n",
       "      <td>AAW0103</td>\n",
       "      <td>25200</td>\n",
       "      <td>26280</td>\n",
       "      <td>26100</td>\n",
       "      <td>25200</td>\n",
       "      <td>58320</td>\n",
       "      <td>59400</td>\n",
       "      <td>58440</td>\n",
       "      <td>57600</td>\n",
       "      <td>1</td>\n",
       "    </tr>\n",
       "    <tr>\n",
       "      <th>2</th>\n",
       "      <td>ACE0265</td>\n",
       "      <td>28800</td>\n",
       "      <td>30300</td>\n",
       "      <td>29700</td>\n",
       "      <td>28800</td>\n",
       "      <td>57900</td>\n",
       "      <td>59400</td>\n",
       "      <td>57960</td>\n",
       "      <td>57600</td>\n",
       "      <td>1</td>\n",
       "    </tr>\n",
       "    <tr>\n",
       "      <th>3</th>\n",
       "      <td>ACL0394</td>\n",
       "      <td>32400</td>\n",
       "      <td>60757</td>\n",
       "      <td>33300</td>\n",
       "      <td>32400</td>\n",
       "      <td>33235</td>\n",
       "      <td>63000</td>\n",
       "      <td>62100</td>\n",
       "      <td>57600</td>\n",
       "      <td>2</td>\n",
       "    </tr>\n",
       "    <tr>\n",
       "      <th>4</th>\n",
       "      <td>ADR0362</td>\n",
       "      <td>27000</td>\n",
       "      <td>28080</td>\n",
       "      <td>28080</td>\n",
       "      <td>25200</td>\n",
       "      <td>60120</td>\n",
       "      <td>61200</td>\n",
       "      <td>60300</td>\n",
       "      <td>57600</td>\n",
       "      <td>1</td>\n",
       "    </tr>\n",
       "  </tbody>\n",
       "</table>\n",
       "</div>"
      ],
      "text/plain": [
       "      user  on_min_ts  on_max_ts  on_mode_ts  on_mean_ts  off_min_ts  \\\n",
       "0  AAN0077      27900      29580       29580       25200       60420   \n",
       "1  AAW0103      25200      26280       26100       25200       58320   \n",
       "2  ACE0265      28800      30300       29700       28800       57900   \n",
       "3  ACL0394      32400      60757       33300       32400       33235   \n",
       "4  ADR0362      27000      28080       28080       25200       60120   \n",
       "\n",
       "   off_max_ts  off_mode_ts  off_mean_ts  pc_count  \n",
       "0       62100        60960        57600         1  \n",
       "1       59400        58440        57600         1  \n",
       "2       59400        57960        57600         1  \n",
       "3       63000        62100        57600         2  \n",
       "4       61200        60300        57600         1  "
      ]
     },
     "execution_count": 177,
     "metadata": {},
     "output_type": "execute_result"
    }
   ],
   "source": [
    "dfmerge1 = pd.merge(ulog_on_off_stats, user_pc, on = 'user')\n",
    "dfmerge1.head()"
   ]
  },
  {
   "cell_type": "code",
   "execution_count": 185,
   "metadata": {
    "collapsed": false
   },
   "outputs": [
    {
     "data": {
      "text/html": [
       "<div>\n",
       "<style>\n",
       "    .dataframe thead tr:only-child th {\n",
       "        text-align: right;\n",
       "    }\n",
       "\n",
       "    .dataframe thead th {\n",
       "        text-align: left;\n",
       "    }\n",
       "\n",
       "    .dataframe tbody tr th {\n",
       "        vertical-align: top;\n",
       "    }\n",
       "</style>\n",
       "<table border=\"1\" class=\"dataframe\">\n",
       "  <thead>\n",
       "    <tr style=\"text-align: right;\">\n",
       "      <th></th>\n",
       "      <th>user</th>\n",
       "      <th>on_min_ts</th>\n",
       "      <th>on_max_ts</th>\n",
       "      <th>on_mode_ts</th>\n",
       "      <th>on_mean_ts</th>\n",
       "      <th>off_min_ts</th>\n",
       "      <th>off_max_ts</th>\n",
       "      <th>off_mode_ts</th>\n",
       "      <th>off_mean_ts</th>\n",
       "      <th>pc_count</th>\n",
       "      <th>employee_name</th>\n",
       "      <th>user_id</th>\n",
       "      <th>O</th>\n",
       "      <th>C</th>\n",
       "      <th>E</th>\n",
       "      <th>A</th>\n",
       "      <th>N</th>\n",
       "    </tr>\n",
       "  </thead>\n",
       "  <tbody>\n",
       "    <tr>\n",
       "      <th>0</th>\n",
       "      <td>AAN0077</td>\n",
       "      <td>27900</td>\n",
       "      <td>29580</td>\n",
       "      <td>29580</td>\n",
       "      <td>25200</td>\n",
       "      <td>60420</td>\n",
       "      <td>62100</td>\n",
       "      <td>60960</td>\n",
       "      <td>57600</td>\n",
       "      <td>1</td>\n",
       "      <td>Allistair Akeem Nichols</td>\n",
       "      <td>AAN0077</td>\n",
       "      <td>42</td>\n",
       "      <td>15</td>\n",
       "      <td>32</td>\n",
       "      <td>22</td>\n",
       "      <td>29</td>\n",
       "    </tr>\n",
       "    <tr>\n",
       "      <th>1</th>\n",
       "      <td>AAW0103</td>\n",
       "      <td>25200</td>\n",
       "      <td>26280</td>\n",
       "      <td>26100</td>\n",
       "      <td>25200</td>\n",
       "      <td>58320</td>\n",
       "      <td>59400</td>\n",
       "      <td>58440</td>\n",
       "      <td>57600</td>\n",
       "      <td>1</td>\n",
       "      <td>Alexa Allegra Walton</td>\n",
       "      <td>AAW0103</td>\n",
       "      <td>39</td>\n",
       "      <td>42</td>\n",
       "      <td>47</td>\n",
       "      <td>39</td>\n",
       "      <td>28</td>\n",
       "    </tr>\n",
       "    <tr>\n",
       "      <th>2</th>\n",
       "      <td>ACE0265</td>\n",
       "      <td>28800</td>\n",
       "      <td>30300</td>\n",
       "      <td>29700</td>\n",
       "      <td>28800</td>\n",
       "      <td>57900</td>\n",
       "      <td>59400</td>\n",
       "      <td>57960</td>\n",
       "      <td>57600</td>\n",
       "      <td>1</td>\n",
       "      <td>Amos Carson Emerson</td>\n",
       "      <td>ACE0265</td>\n",
       "      <td>26</td>\n",
       "      <td>23</td>\n",
       "      <td>14</td>\n",
       "      <td>19</td>\n",
       "      <td>40</td>\n",
       "    </tr>\n",
       "    <tr>\n",
       "      <th>3</th>\n",
       "      <td>ACL0394</td>\n",
       "      <td>32400</td>\n",
       "      <td>60757</td>\n",
       "      <td>33300</td>\n",
       "      <td>32400</td>\n",
       "      <td>33235</td>\n",
       "      <td>63000</td>\n",
       "      <td>62100</td>\n",
       "      <td>57600</td>\n",
       "      <td>2</td>\n",
       "      <td>Adam Clark Lindsey</td>\n",
       "      <td>ACL0394</td>\n",
       "      <td>25</td>\n",
       "      <td>44</td>\n",
       "      <td>18</td>\n",
       "      <td>19</td>\n",
       "      <td>17</td>\n",
       "    </tr>\n",
       "    <tr>\n",
       "      <th>4</th>\n",
       "      <td>ADR0362</td>\n",
       "      <td>27000</td>\n",
       "      <td>28080</td>\n",
       "      <td>28080</td>\n",
       "      <td>25200</td>\n",
       "      <td>60120</td>\n",
       "      <td>61200</td>\n",
       "      <td>60300</td>\n",
       "      <td>57600</td>\n",
       "      <td>1</td>\n",
       "      <td>Amir Damian Rosario</td>\n",
       "      <td>ADR0362</td>\n",
       "      <td>32</td>\n",
       "      <td>42</td>\n",
       "      <td>35</td>\n",
       "      <td>38</td>\n",
       "      <td>26</td>\n",
       "    </tr>\n",
       "  </tbody>\n",
       "</table>\n",
       "</div>"
      ],
      "text/plain": [
       "      user  on_min_ts  on_max_ts  on_mode_ts  on_mean_ts  off_min_ts  \\\n",
       "0  AAN0077      27900      29580       29580       25200       60420   \n",
       "1  AAW0103      25200      26280       26100       25200       58320   \n",
       "2  ACE0265      28800      30300       29700       28800       57900   \n",
       "3  ACL0394      32400      60757       33300       32400       33235   \n",
       "4  ADR0362      27000      28080       28080       25200       60120   \n",
       "\n",
       "   off_max_ts  off_mode_ts  off_mean_ts  pc_count            employee_name  \\\n",
       "0       62100        60960        57600         1  Allistair Akeem Nichols   \n",
       "1       59400        58440        57600         1     Alexa Allegra Walton   \n",
       "2       59400        57960        57600         1      Amos Carson Emerson   \n",
       "3       63000        62100        57600         2       Adam Clark Lindsey   \n",
       "4       61200        60300        57600         1      Amir Damian Rosario   \n",
       "\n",
       "   user_id   O   C   E   A   N  \n",
       "0  AAN0077  42  15  32  22  29  \n",
       "1  AAW0103  39  42  47  39  28  \n",
       "2  ACE0265  26  23  14  19  40  \n",
       "3  ACL0394  25  44  18  19  17  \n",
       "4  ADR0362  32  42  35  38  26  "
      ]
     },
     "execution_count": 185,
     "metadata": {},
     "output_type": "execute_result"
    }
   ],
   "source": [
    "dfmerge2 = pd.merge(dfmerge1, psychometric, left_on = 'user', right_on = 'user_id')\n",
    "dfmerge2.head()"
   ]
  },
  {
   "cell_type": "code",
   "execution_count": 186,
   "metadata": {
    "collapsed": false
   },
   "outputs": [
    {
     "data": {
      "text/plain": [
       "(232, 17)"
      ]
     },
     "execution_count": 186,
     "metadata": {},
     "output_type": "execute_result"
    }
   ],
   "source": [
    "dfmerge2.shape"
   ]
  },
  {
   "cell_type": "code",
   "execution_count": 187,
   "metadata": {
    "collapsed": true
   },
   "outputs": [],
   "source": [
    "# drop the 'employee_name' and 'user_id' columns\n",
    "dfmerge2.drop(['employee_name', 'user_id'], axis=1, inplace=True)  # axis: 1 for col, 0 for row"
   ]
  },
  {
   "cell_type": "code",
   "execution_count": 188,
   "metadata": {
    "collapsed": false
   },
   "outputs": [
    {
     "data": {
      "text/html": [
       "<div>\n",
       "<style>\n",
       "    .dataframe thead tr:only-child th {\n",
       "        text-align: right;\n",
       "    }\n",
       "\n",
       "    .dataframe thead th {\n",
       "        text-align: left;\n",
       "    }\n",
       "\n",
       "    .dataframe tbody tr th {\n",
       "        vertical-align: top;\n",
       "    }\n",
       "</style>\n",
       "<table border=\"1\" class=\"dataframe\">\n",
       "  <thead>\n",
       "    <tr style=\"text-align: right;\">\n",
       "      <th></th>\n",
       "      <th>user</th>\n",
       "      <th>on_min_ts</th>\n",
       "      <th>on_max_ts</th>\n",
       "      <th>on_mode_ts</th>\n",
       "      <th>on_mean_ts</th>\n",
       "      <th>off_min_ts</th>\n",
       "      <th>off_max_ts</th>\n",
       "      <th>off_mode_ts</th>\n",
       "      <th>off_mean_ts</th>\n",
       "      <th>pc_count</th>\n",
       "      <th>O</th>\n",
       "      <th>C</th>\n",
       "      <th>E</th>\n",
       "      <th>A</th>\n",
       "      <th>N</th>\n",
       "    </tr>\n",
       "  </thead>\n",
       "  <tbody>\n",
       "    <tr>\n",
       "      <th>0</th>\n",
       "      <td>AAN0077</td>\n",
       "      <td>27900</td>\n",
       "      <td>29580</td>\n",
       "      <td>29580</td>\n",
       "      <td>25200</td>\n",
       "      <td>60420</td>\n",
       "      <td>62100</td>\n",
       "      <td>60960</td>\n",
       "      <td>57600</td>\n",
       "      <td>1</td>\n",
       "      <td>42</td>\n",
       "      <td>15</td>\n",
       "      <td>32</td>\n",
       "      <td>22</td>\n",
       "      <td>29</td>\n",
       "    </tr>\n",
       "    <tr>\n",
       "      <th>1</th>\n",
       "      <td>AAW0103</td>\n",
       "      <td>25200</td>\n",
       "      <td>26280</td>\n",
       "      <td>26100</td>\n",
       "      <td>25200</td>\n",
       "      <td>58320</td>\n",
       "      <td>59400</td>\n",
       "      <td>58440</td>\n",
       "      <td>57600</td>\n",
       "      <td>1</td>\n",
       "      <td>39</td>\n",
       "      <td>42</td>\n",
       "      <td>47</td>\n",
       "      <td>39</td>\n",
       "      <td>28</td>\n",
       "    </tr>\n",
       "    <tr>\n",
       "      <th>2</th>\n",
       "      <td>ACE0265</td>\n",
       "      <td>28800</td>\n",
       "      <td>30300</td>\n",
       "      <td>29700</td>\n",
       "      <td>28800</td>\n",
       "      <td>57900</td>\n",
       "      <td>59400</td>\n",
       "      <td>57960</td>\n",
       "      <td>57600</td>\n",
       "      <td>1</td>\n",
       "      <td>26</td>\n",
       "      <td>23</td>\n",
       "      <td>14</td>\n",
       "      <td>19</td>\n",
       "      <td>40</td>\n",
       "    </tr>\n",
       "    <tr>\n",
       "      <th>3</th>\n",
       "      <td>ACL0394</td>\n",
       "      <td>32400</td>\n",
       "      <td>60757</td>\n",
       "      <td>33300</td>\n",
       "      <td>32400</td>\n",
       "      <td>33235</td>\n",
       "      <td>63000</td>\n",
       "      <td>62100</td>\n",
       "      <td>57600</td>\n",
       "      <td>2</td>\n",
       "      <td>25</td>\n",
       "      <td>44</td>\n",
       "      <td>18</td>\n",
       "      <td>19</td>\n",
       "      <td>17</td>\n",
       "    </tr>\n",
       "    <tr>\n",
       "      <th>4</th>\n",
       "      <td>ADR0362</td>\n",
       "      <td>27000</td>\n",
       "      <td>28080</td>\n",
       "      <td>28080</td>\n",
       "      <td>25200</td>\n",
       "      <td>60120</td>\n",
       "      <td>61200</td>\n",
       "      <td>60300</td>\n",
       "      <td>57600</td>\n",
       "      <td>1</td>\n",
       "      <td>32</td>\n",
       "      <td>42</td>\n",
       "      <td>35</td>\n",
       "      <td>38</td>\n",
       "      <td>26</td>\n",
       "    </tr>\n",
       "  </tbody>\n",
       "</table>\n",
       "</div>"
      ],
      "text/plain": [
       "      user  on_min_ts  on_max_ts  on_mode_ts  on_mean_ts  off_min_ts  \\\n",
       "0  AAN0077      27900      29580       29580       25200       60420   \n",
       "1  AAW0103      25200      26280       26100       25200       58320   \n",
       "2  ACE0265      28800      30300       29700       28800       57900   \n",
       "3  ACL0394      32400      60757       33300       32400       33235   \n",
       "4  ADR0362      27000      28080       28080       25200       60120   \n",
       "\n",
       "   off_max_ts  off_mode_ts  off_mean_ts  pc_count   O   C   E   A   N  \n",
       "0       62100        60960        57600         1  42  15  32  22  29  \n",
       "1       59400        58440        57600         1  39  42  47  39  28  \n",
       "2       59400        57960        57600         1  26  23  14  19  40  \n",
       "3       63000        62100        57600         2  25  44  18  19  17  \n",
       "4       61200        60300        57600         1  32  42  35  38  26  "
      ]
     },
     "execution_count": 188,
     "metadata": {},
     "output_type": "execute_result"
    }
   ],
   "source": [
    "dfmerge2.head()"
   ]
  },
  {
   "cell_type": "code",
   "execution_count": 190,
   "metadata": {
    "collapsed": true
   },
   "outputs": [],
   "source": [
    "All_params = dfmerge2\n",
    "\n",
    "# save\n",
    "All_params.to_csv('./Data_Subset/Input_features/All_params.csv', index = False)\n"
   ]
  },
  {
   "cell_type": "markdown",
   "metadata": {},
   "source": [
    "- Fit the model"
   ]
  },
  {
   "cell_type": "code",
   "execution_count": 191,
   "metadata": {
    "collapsed": false
   },
   "outputs": [
    {
     "data": {
      "text/plain": [
       "array([[27900, 29580, 29580, ...,    32,    22,    29],\n",
       "       [25200, 26280, 26100, ...,    47,    39,    28],\n",
       "       [28800, 30300, 29700, ...,    14,    19,    40],\n",
       "       ..., \n",
       "       [27000, 28020, 27900, ...,    16,    19,    40],\n",
       "       [29700, 52585, 30600, ...,    44,    42,    28],\n",
       "       [25200, 26760, 26100, ...,    17,    46,    26]])"
      ]
     },
     "execution_count": 191,
     "metadata": {},
     "output_type": "execute_result"
    }
   ],
   "source": [
    "#input array\n",
    "\n",
    "All_params_input = All_params.as_matrix(columns = All_params.columns[1:])\n",
    "All_params_input"
   ]
  },
  {
   "cell_type": "code",
   "execution_count": 192,
   "metadata": {
    "collapsed": false
   },
   "outputs": [
    {
     "data": {
      "text/plain": [
       "IsolationForest(bootstrap=False, contamination=0.1, max_features=1.0,\n",
       "        max_samples='auto', n_estimators=100, n_jobs=1, random_state=None,\n",
       "        verbose=0)"
      ]
     },
     "execution_count": 192,
     "metadata": {},
     "output_type": "execute_result"
    }
   ],
   "source": [
    "forest = IsolationForest()\n",
    "\n",
    "forest.fit(All_params_input)"
   ]
  },
  {
   "cell_type": "code",
   "execution_count": 194,
   "metadata": {
    "collapsed": false,
    "scrolled": true
   },
   "outputs": [
    {
     "data": {
      "text/plain": [
       "array([ 0.09306731,  0.04907915,  0.05230022,  0.01226161,  0.08859862,\n",
       "        0.06478952,  0.06382545,  0.10821374,  0.06759128,  0.05793062,\n",
       "        0.05437928,  0.04526372, -0.05702581, -0.06819795,  0.014173  ,\n",
       "        0.05511947,  0.01639531,  0.01236846,  0.02868082,  0.01508705,\n",
       "        0.02390975,  0.08153256,  0.04431548, -0.03220311,  0.02415096,\n",
       "        0.04705111,  0.06824238,  0.00993244,  0.06054351,  0.01478441,\n",
       "        0.03290786, -0.05301363,  0.0624407 ,  0.07754993,  0.05802697,\n",
       "        0.0634078 ,  0.0549517 ,  0.05030033,  0.05402928,  0.09800174,\n",
       "        0.03593456,  0.07007377,  0.03242095,  0.05241744, -0.04400098,\n",
       "        0.06607366,  0.04937949,  0.07777261,  0.07190937,  0.00620378,\n",
       "        0.0118727 ,  0.04399525,  0.03898421,  0.10801991,  0.07764995,\n",
       "        0.03252773, -0.08949721,  0.0758242 , -0.01302638,  0.05081461,\n",
       "        0.10623094,  0.06250043,  0.01948568,  0.07469456,  0.07398662,\n",
       "        0.02543436,  0.01091637,  0.05775381,  0.06201844,  0.00838317,\n",
       "        0.05180009,  0.0652336 ,  0.02364394, -0.05983102,  0.0426441 ,\n",
       "        0.05095543,  0.06232072, -0.09342887,  0.03419866,  0.03863174,\n",
       "        0.08071692,  0.09769826,  0.03217038, -0.03738269,  0.02427412,\n",
       "        0.07500431,  0.02842289,  0.08367983,  0.07074477,  0.07568847,\n",
       "        0.05009355,  0.06646146,  0.08720938,  0.03332476,  0.0930803 ,\n",
       "       -0.04633427,  0.02703399,  0.08882715,  0.08038075, -0.04562373,\n",
       "        0.03442228,  0.04901652,  0.05627294,  0.03417616,  0.0750562 ,\n",
       "        0.04280277,  0.06243981,  0.02142318,  0.05086421,  0.00300201,\n",
       "        0.05642468,  0.05504959,  0.07901818,  0.03969661,  0.08926948,\n",
       "        0.07174847,  0.08126739,  0.02390208,  0.0407461 ,  0.06627997,\n",
       "        0.08553515,  0.05597009,  0.05899692,  0.05015909, -0.01208686,\n",
       "        0.09199275,  0.07640923,  0.03125499,  0.05324672,  0.01617666,\n",
       "        0.08202427,  0.05855421,  0.03687441, -0.00823575,  0.08313037,\n",
       "        0.05974651,  0.04549331,  0.06247298,  0.03387535,  0.06504681,\n",
       "       -0.07963021,  0.08956396,  0.06288993,  0.04124626,  0.00240401,\n",
       "        0.01595346,  0.02862976, -0.11107791,  0.05104515,  0.09196282,\n",
       "        0.05222525,  0.06187911,  0.03264604,  0.08064054,  0.02532017,\n",
       "        0.0940332 ,  0.06223721,  0.0287641 ,  0.07296961,  0.05111387,\n",
       "       -0.01826136,  0.07858411,  0.00804936,  0.05234697,  0.0614052 ,\n",
       "        0.04984096,  0.07787759,  0.03704089,  0.03220185,  0.04047452,\n",
       "        0.05591182,  0.0875992 , -0.01897625,  0.03935175,  0.06591563,\n",
       "        0.00822388,  0.00667832,  0.02382268, -0.04508309,  0.01276253,\n",
       "        0.03512972,  0.04634828,  0.03741844,  0.04793864,  0.06091698,\n",
       "        0.09968566,  0.08895728,  0.05724038,  0.03738259,  0.08226473,\n",
       "        0.06302313,  0.07307071, -0.04671011,  0.01867297,  0.03194803,\n",
       "       -0.03342845,  0.07561292,  0.07294445,  0.06877231,  0.0407567 ,\n",
       "        0.10724422,  0.08317452,  0.07163239,  0.03316262,  0.08159693,\n",
       "        0.03557278,  0.05317161,  0.05896676,  0.0345751 ,  0.04786615,\n",
       "        0.08054444,  0.06420686,  0.01780198,  0.09109878,  0.07310861,\n",
       "        0.10004755, -0.04424438,  0.03085032,  0.03773093,  0.1070174 ,\n",
       "        0.0192238 , -0.02095965, -0.03047663,  0.01267687,  0.078829  ,\n",
       "        0.02640125,  0.05268241,  0.08587742,  0.01608676,  0.06727137,\n",
       "        0.00822797,  0.04492047])"
      ]
     },
     "execution_count": 194,
     "metadata": {},
     "output_type": "execute_result"
    }
   ],
   "source": [
    "# Anomaly score\n",
    "All_params_ascore = forest.decision_function(All_params_input)\n",
    "All_params_ascore"
   ]
  },
  {
   "cell_type": "code",
   "execution_count": 195,
   "metadata": {
    "collapsed": true
   },
   "outputs": [],
   "source": [
    "# save the result\n",
    "\n",
    "All_params_result = pd.DataFrame()\n",
    "\n",
    "All_params_result['user'] = All_params['user']\n",
    "All_params_result['ascore'] = All_params_ascore\n"
   ]
  },
  {
   "cell_type": "code",
   "execution_count": 196,
   "metadata": {
    "collapsed": false
   },
   "outputs": [
    {
     "data": {
      "text/html": [
       "<div>\n",
       "<style>\n",
       "    .dataframe thead tr:only-child th {\n",
       "        text-align: right;\n",
       "    }\n",
       "\n",
       "    .dataframe thead th {\n",
       "        text-align: left;\n",
       "    }\n",
       "\n",
       "    .dataframe tbody tr th {\n",
       "        vertical-align: top;\n",
       "    }\n",
       "</style>\n",
       "<table border=\"1\" class=\"dataframe\">\n",
       "  <thead>\n",
       "    <tr style=\"text-align: right;\">\n",
       "      <th></th>\n",
       "      <th>user</th>\n",
       "      <th>ascore</th>\n",
       "    </tr>\n",
       "  </thead>\n",
       "  <tbody>\n",
       "    <tr>\n",
       "      <th>0</th>\n",
       "      <td>AAN0077</td>\n",
       "      <td>0.093067</td>\n",
       "    </tr>\n",
       "    <tr>\n",
       "      <th>1</th>\n",
       "      <td>AAW0103</td>\n",
       "      <td>0.049079</td>\n",
       "    </tr>\n",
       "    <tr>\n",
       "      <th>2</th>\n",
       "      <td>ACE0265</td>\n",
       "      <td>0.052300</td>\n",
       "    </tr>\n",
       "    <tr>\n",
       "      <th>3</th>\n",
       "      <td>ACL0394</td>\n",
       "      <td>0.012262</td>\n",
       "    </tr>\n",
       "    <tr>\n",
       "      <th>4</th>\n",
       "      <td>ADR0362</td>\n",
       "      <td>0.088599</td>\n",
       "    </tr>\n",
       "  </tbody>\n",
       "</table>\n",
       "</div>"
      ],
      "text/plain": [
       "      user    ascore\n",
       "0  AAN0077  0.093067\n",
       "1  AAW0103  0.049079\n",
       "2  ACE0265  0.052300\n",
       "3  ACL0394  0.012262\n",
       "4  ADR0362  0.088599"
      ]
     },
     "execution_count": 196,
     "metadata": {},
     "output_type": "execute_result"
    }
   ],
   "source": [
    "All_params_result.head()"
   ]
  },
  {
   "cell_type": "code",
   "execution_count": 197,
   "metadata": {
    "collapsed": true
   },
   "outputs": [],
   "source": [
    "All_params_result.to_csv('./Data_Subset/IFResult/All_params_result.csv', index = False)"
   ]
  },
  {
   "cell_type": "code",
   "execution_count": null,
   "metadata": {
    "collapsed": true
   },
   "outputs": [],
   "source": []
  }
 ],
 "metadata": {
  "anaconda-cloud": {},
  "kernelspec": {
   "display_name": "Python [default]",
   "language": "python",
   "name": "python2"
  },
  "language_info": {
   "codemirror_mode": {
    "name": "ipython",
    "version": 2
   },
   "file_extension": ".py",
   "mimetype": "text/x-python",
   "name": "python",
   "nbconvert_exporter": "python",
   "pygments_lexer": "ipython2",
   "version": "2.7.12"
  }
 },
 "nbformat": 4,
 "nbformat_minor": 1
}


